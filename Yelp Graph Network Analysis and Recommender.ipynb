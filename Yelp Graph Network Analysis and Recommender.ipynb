{
 "cells": [
  {
   "cell_type": "markdown",
   "metadata": {},
   "source": [
    "# Big Data Platforms - Group Project\n",
    "\n",
    "## Yelp Graph Network Analysis and Recommender "
   ]
  },
  {
   "cell_type": "code",
   "execution_count": 1,
   "metadata": {},
   "outputs": [],
   "source": [
    "from pyspark.sql import SparkSession\n",
    "from pyspark.sql import functions as F\n",
    "from pyspark.sql.functions import abs, col, to_timestamp, repeat, lit, split,explode\n",
    "from math import radians, cos, sin, asin, sqrt"
   ]
  },
  {
   "cell_type": "code",
   "execution_count": 2,
   "metadata": {},
   "outputs": [],
   "source": [
    "spark = SparkSession.builder.enableHiveSupport().appName('Graph').getOrCreate()\n",
    "\n",
    "sc = spark.sparkContext "
   ]
  },
  {
   "cell_type": "code",
   "execution_count": 3,
   "metadata": {},
   "outputs": [],
   "source": [
    "from graphframes import *"
   ]
  },
  {
   "cell_type": "markdown",
   "metadata": {},
   "source": [
    "## Load and Filter Data\n",
    "\n",
    "Load perviously filtered Austin businesses dataset along with the business.json dataset for attribute enhacement."
   ]
  },
  {
   "cell_type": "code",
   "execution_count": 4,
   "metadata": {},
   "outputs": [],
   "source": [
    "data = spark.read.option(\"multiLine\", \"true\").csv(\"big-data/austin_reviews\", header = True)\n",
    "businesses = spark.read.json(\"big-data/yelp_academic_dataset_business.json\")"
   ]
  },
  {
   "cell_type": "code",
   "execution_count": 22,
   "metadata": {},
   "outputs": [
    {
     "data": {
      "text/plain": [
       "1425227"
      ]
     },
     "execution_count": 22,
     "metadata": {},
     "output_type": "execute_result"
    }
   ],
   "source": [
    "data.count()"
   ]
  },
  {
   "cell_type": "markdown",
   "metadata": {},
   "source": [
    "We'll narrow down our dataset to reviews in Austin, TX from year 2019 to 2021. This will improve recommendation relevance and reduce computational load."
   ]
  },
  {
   "cell_type": "code",
   "execution_count": 5,
   "metadata": {},
   "outputs": [],
   "source": [
    "timestamp_type = [\"date\"]\n",
    "\n",
    "for c in timestamp_type:\n",
    "    data = data.withColumn(c,to_timestamp(c, \"yyyy-MM-dd HH:mm:ss\"))"
   ]
  },
  {
   "cell_type": "code",
   "execution_count": 6,
   "metadata": {},
   "outputs": [],
   "source": [
    "data = data.filter(data.date > \"2019-01-01\")"
   ]
  },
  {
   "cell_type": "markdown",
   "metadata": {},
   "source": [
    "We still have 268,362 reviews present in our dataset. The reviews will represent one type of edge in our graph. We'll build out our edge dataframe later."
   ]
  },
  {
   "cell_type": "code",
   "execution_count": 34,
   "metadata": {},
   "outputs": [
    {
     "data": {
      "text/plain": [
       "268362"
      ]
     },
     "execution_count": 34,
     "metadata": {},
     "output_type": "execute_result"
    }
   ],
   "source": [
    "data.count()"
   ]
  },
  {
   "cell_type": "markdown",
   "metadata": {},
   "source": [
    "## Create Node Dataframe\n",
    "\n",
    "There are two types of nodes in our graph:\n",
    "    \n",
    "    1. Businesses\n",
    "    2. Users\n",
    "    \n",
    "Each node type has unique attributes of interest:\n",
    "\n",
    "- Business: address, categories, hours, name, geocoordinates\n",
    "- User: for simplicity, we will not track attributes of the user as it's not needed for current use case\n",
    "\n",
    "Next, we'll find the unique business_ids and user_ids. Each unique id represents a node in our graph. "
   ]
  },
  {
   "cell_type": "code",
   "execution_count": 7,
   "metadata": {},
   "outputs": [],
   "source": [
    "business_id_df = data.select(\"business_id\").distinct()\n",
    "user_id_df = data.select(\"user_id\").distinct()"
   ]
  },
  {
   "cell_type": "code",
   "execution_count": null,
   "metadata": {},
   "outputs": [],
   "source": [
    "#data.select(\"business_id\", \"address\", \"categories\", \"hours\", \"name\", \"latitude\", \"longitude\").distinct()"
   ]
  },
  {
   "cell_type": "markdown",
   "metadata": {},
   "source": [
    "Let's see how many unique users we have:"
   ]
  },
  {
   "cell_type": "code",
   "execution_count": 18,
   "metadata": {},
   "outputs": [
    {
     "data": {
      "text/plain": [
       "126744"
      ]
     },
     "execution_count": 18,
     "metadata": {},
     "output_type": "execute_result"
    }
   ],
   "source": [
    "user_id_df.count()"
   ]
  },
  {
   "cell_type": "markdown",
   "metadata": {},
   "source": [
    "And unique businesses: "
   ]
  },
  {
   "cell_type": "code",
   "execution_count": 13,
   "metadata": {},
   "outputs": [
    {
     "data": {
      "text/plain": [
       "15834"
      ]
     },
     "execution_count": 13,
     "metadata": {},
     "output_type": "execute_result"
    }
   ],
   "source": [
    "business_id_df.count()"
   ]
  },
  {
   "cell_type": "markdown",
   "metadata": {},
   "source": [
    "To help identify the type of node we'll add a new column to each dataframe. A 0 will represent a business type node and a 1 will represnt a user type node. "
   ]
  },
  {
   "cell_type": "code",
   "execution_count": 8,
   "metadata": {},
   "outputs": [],
   "source": [
    "#add column type for business and users\n",
    "business_id_df = business_id_df.withColumn(\"business\", lit(0))\n",
    "user_id_df = user_id_df.withColumn(\"customer\", lit(1))"
   ]
  },
  {
   "cell_type": "markdown",
   "metadata": {},
   "source": [
    "Next, we'll select the specific business attributes we want to map to each business type node. We'll do a left join to map these attributes back to our unique business_id dataset. "
   ]
  },
  {
   "cell_type": "code",
   "execution_count": 9,
   "metadata": {},
   "outputs": [],
   "source": [
    "#select attributes to add to business type nodes\n",
    "businesses = businesses.select(\"business_id\", \"address\", \"categories\", \"hours\", \"name\", \"latitude\", \"longitude\")"
   ]
  },
  {
   "cell_type": "code",
   "execution_count": 10,
   "metadata": {},
   "outputs": [],
   "source": [
    "business_id_w_attributes = business_id_df.join(businesses, on = 'business_id', how = \"left\")"
   ]
  },
  {
   "cell_type": "code",
   "execution_count": 105,
   "metadata": {},
   "outputs": [
    {
     "data": {
      "text/plain": [
       "15834"
      ]
     },
     "execution_count": 105,
     "metadata": {},
     "output_type": "execute_result"
    }
   ],
   "source": [
    "business_id_w_attributes.count()"
   ]
  },
  {
   "cell_type": "markdown",
   "metadata": {},
   "source": [
    "Finally, we need to add the business attribute columns to our user_id dataframe. These attributes will be populated with None. By adding these columns to the user_id dataframe, we can do a union to combine our two node type dataframes into a single dataframe. "
   ]
  },
  {
   "cell_type": "code",
   "execution_count": 41,
   "metadata": {},
   "outputs": [
    {
     "name": "stdout",
     "output_type": "stream",
     "text": [
      "+--------------------+--------+\n",
      "|             user_id|customer|\n",
      "+--------------------+--------+\n",
      "|x4Y6DZHI9Ad2R-fmm...|       1|\n",
      "|vJbLbl9cqKwHGARtD...|       1|\n",
      "|jOhTdcWUVNgwsuIiP...|       1|\n",
      "|oBUZgRiHQeN6pgDKy...|       1|\n",
      "|trq73Ax5yXpCRopNC...|       1|\n",
      "+--------------------+--------+\n",
      "only showing top 5 rows\n",
      "\n"
     ]
    }
   ],
   "source": [
    "user_id_df.show(5)"
   ]
  },
  {
   "cell_type": "code",
   "execution_count": 11,
   "metadata": {},
   "outputs": [],
   "source": [
    "cols = [\"address\", \"categories\", \"hours\", \"name\", \"latitude\", \"longitude\"]   \n",
    "\n",
    "for c in cols:\n",
    "    user_id_df = user_id_df.withColumn(c, lit(None))"
   ]
  },
  {
   "cell_type": "markdown",
   "metadata": {},
   "source": [
    "Let's check that our two node type dataframes have the same columns before we do a union. "
   ]
  },
  {
   "cell_type": "code",
   "execution_count": 15,
   "metadata": {},
   "outputs": [
    {
     "name": "stdout",
     "output_type": "stream",
     "text": [
      "root\n",
      " |-- user_id: string (nullable = true)\n",
      " |-- customer: integer (nullable = false)\n",
      " |-- address: null (nullable = true)\n",
      " |-- categories: null (nullable = true)\n",
      " |-- hours: null (nullable = true)\n",
      " |-- name: null (nullable = true)\n",
      " |-- latitude: null (nullable = true)\n",
      " |-- longitude: null (nullable = true)\n",
      "\n"
     ]
    }
   ],
   "source": [
    "user_id_df.printSchema()"
   ]
  },
  {
   "cell_type": "code",
   "execution_count": 16,
   "metadata": {},
   "outputs": [
    {
     "name": "stdout",
     "output_type": "stream",
     "text": [
      "root\n",
      " |-- business_id: string (nullable = true)\n",
      " |-- business: integer (nullable = false)\n",
      " |-- address: string (nullable = true)\n",
      " |-- categories: string (nullable = true)\n",
      " |-- hours: struct (nullable = true)\n",
      " |    |-- Friday: string (nullable = true)\n",
      " |    |-- Monday: string (nullable = true)\n",
      " |    |-- Saturday: string (nullable = true)\n",
      " |    |-- Sunday: string (nullable = true)\n",
      " |    |-- Thursday: string (nullable = true)\n",
      " |    |-- Tuesday: string (nullable = true)\n",
      " |    |-- Wednesday: string (nullable = true)\n",
      " |-- name: string (nullable = true)\n",
      " |-- latitude: double (nullable = true)\n",
      " |-- longitude: double (nullable = true)\n",
      "\n"
     ]
    }
   ],
   "source": [
    "business_id_w_attributes.printSchema()"
   ]
  },
  {
   "cell_type": "markdown",
   "metadata": {},
   "source": [
    "Let's create a single dataframe that will contain our nodes for our graph. "
   ]
  },
  {
   "cell_type": "code",
   "execution_count": 12,
   "metadata": {},
   "outputs": [],
   "source": [
    "#union users and businesses into a node dataframe\n",
    "node = business_id_w_attributes.union(user_id_df)"
   ]
  },
  {
   "cell_type": "code",
   "execution_count": 13,
   "metadata": {},
   "outputs": [],
   "source": [
    "#rename columns\n",
    "node = node.withColumnRenamed(\"business_id\", \"id\")\n",
    "node = node.withColumnRenamed(\"business\", \"type\")"
   ]
  },
  {
   "cell_type": "code",
   "execution_count": 31,
   "metadata": {},
   "outputs": [
    {
     "name": "stdout",
     "output_type": "stream",
     "text": [
      "+--------------------+----+--------------------+--------------------+--------------------+--------------------+-------------+--------------+\n",
      "|                  id|type|             address|          categories|               hours|                name|     latitude|     longitude|\n",
      "+--------------------+----+--------------------+--------------------+--------------------+--------------------+-------------+--------------+\n",
      "|-ZzsPlaAgwO3yt29u...|   0|                    |Professional Serv...|[9:0-17:0, 9:0-17...|      ATX Architects|   30.3911673|   -97.7051165|\n",
      "|-x9y3f2IXWnWhZyeQ...|   0|      5201 McDade Dr|Arts & Entertainm...|[10:0-19:0, 10:0-...|   Party Boat Austin|    30.255226|    -97.832213|\n",
      "|1P0gza0EoFe-mQ026...|   0|3201 Bee Caves Rd...|Fitness & Instruc...|[5:15-18:30, 5:15...|F45 Training West...|    30.272058|    -97.800736|\n",
      "|1m3r_ABHzUvm0H9vQ...|   0|2600 Lake Austin ...|Apartments, Home ...|[9:0-18:0, 0:0-0:...|The Boulevard at ...|    30.280437|    -97.773594|\n",
      "|2b5S-XLh6gcUGHPad...|   0|2727 Exposition B...|Fashion, Shopping...|[8:0-20:0, 0:0-0:...|  Tarrytown Pharmacy|30.3036351014|-97.7639331594|\n",
      "+--------------------+----+--------------------+--------------------+--------------------+--------------------+-------------+--------------+\n",
      "only showing top 5 rows\n",
      "\n"
     ]
    }
   ],
   "source": [
    "node.show(5)"
   ]
  },
  {
   "cell_type": "markdown",
   "metadata": {},
   "source": [
    "### Create Edges Dataframe\n",
    "\n",
    "In our graph, there will be two types of edges:\n",
    "\n",
    "1. User leaves a rating for a business\n",
    "2. User is connected to another user as a friend\n",
    "\n",
    "Each edge type will carry with it attributes of interest:\n",
    "\n",
    "- When a user leaves a rating for a business, we'll want the date of the review and the number of stars. We could also keep additional attributes such as the review text, number of upvotes, ect. We'll only grab the attributes used down stream in our current analysis. \n",
    "\n",
    "- A user to user connection as a friend does not have any attribute information available in the dataset. \n",
    "\n",
    "To create our edge dataframe, we'll need to pre-process the user.json file, which contains user information (including users friends list). \n",
    "\n",
    "Our Austin reviews dataset contains all of the user-business reviews already. We just need to rename appropriate columnas as the source/destination and select the attributes to track with each review. "
   ]
  },
  {
   "cell_type": "code",
   "execution_count": 14,
   "metadata": {},
   "outputs": [],
   "source": [
    "#create user to business edges dataframe\n",
    "user_business = data.select(\"business_id\", \"date\", \"review_id\", \"text\", \"stars\", \"user_id\")\n",
    "\n",
    "user_business = user_business.withColumn(\"src\", user_business[\"user_id\"])\n",
    "user_business = user_business.withColumn(\"dst\", user_business[\"business_id\"])\n",
    "\n",
    "user_business = user_business.select('dst', 'date', 'review_id', \"text\", \"stars\", \"src\")"
   ]
  },
  {
   "cell_type": "markdown",
   "metadata": {},
   "source": [
    "Next, we'll pre-process the user.json file to find user to user edges. "
   ]
  },
  {
   "cell_type": "code",
   "execution_count": 40,
   "metadata": {},
   "outputs": [
    {
     "name": "stdout",
     "output_type": "stream",
     "text": [
      "WARNING: log4j.properties is not found. HADOOP_CONF_DIR may be incomplete.\n",
      "Java HotSpot(TM) 64-Bit Server VM warning: ignoring option MaxPermSize=512M; support was removed in 8.0\n"
     ]
    }
   ],
   "source": [
    "#put user dataset into HDFS\n",
    "!hdfs dfs -put /home/aleonard2/yelp_academic_dataset_user.json big-data"
   ]
  },
  {
   "cell_type": "code",
   "execution_count": 15,
   "metadata": {},
   "outputs": [],
   "source": [
    "users = spark.read.json(\"big-data/yelp_academic_dataset_user.json\")"
   ]
  },
  {
   "cell_type": "code",
   "execution_count": 22,
   "metadata": {},
   "outputs": [
    {
     "name": "stdout",
     "output_type": "stream",
     "text": [
      "root\n",
      " |-- average_stars: double (nullable = true)\n",
      " |-- compliment_cool: long (nullable = true)\n",
      " |-- compliment_cute: long (nullable = true)\n",
      " |-- compliment_funny: long (nullable = true)\n",
      " |-- compliment_hot: long (nullable = true)\n",
      " |-- compliment_list: long (nullable = true)\n",
      " |-- compliment_more: long (nullable = true)\n",
      " |-- compliment_note: long (nullable = true)\n",
      " |-- compliment_photos: long (nullable = true)\n",
      " |-- compliment_plain: long (nullable = true)\n",
      " |-- compliment_profile: long (nullable = true)\n",
      " |-- compliment_writer: long (nullable = true)\n",
      " |-- cool: long (nullable = true)\n",
      " |-- elite: string (nullable = true)\n",
      " |-- fans: long (nullable = true)\n",
      " |-- friends: string (nullable = true)\n",
      " |-- funny: long (nullable = true)\n",
      " |-- name: string (nullable = true)\n",
      " |-- review_count: long (nullable = true)\n",
      " |-- useful: long (nullable = true)\n",
      " |-- user_id: string (nullable = true)\n",
      " |-- yelping_since: string (nullable = true)\n",
      "\n"
     ]
    }
   ],
   "source": [
    "users.printSchema()"
   ]
  },
  {
   "cell_type": "markdown",
   "metadata": {},
   "source": [
    "We already identfied our unique users above. We'll do a left join on this dataframe with the users.json data, appending the needed \"friends\" column to each user."
   ]
  },
  {
   "cell_type": "code",
   "execution_count": 16,
   "metadata": {},
   "outputs": [],
   "source": [
    "users_edge = user_id_df.join(users, on = 'user_id', how = \"left\")"
   ]
  },
  {
   "cell_type": "code",
   "execution_count": 37,
   "metadata": {},
   "outputs": [
    {
     "data": {
      "text/plain": [
       "126744"
      ]
     },
     "execution_count": 37,
     "metadata": {},
     "output_type": "execute_result"
    }
   ],
   "source": [
    "users_edge.count()"
   ]
  },
  {
   "cell_type": "code",
   "execution_count": 17,
   "metadata": {},
   "outputs": [],
   "source": [
    "users_edge = users_edge.select(\"user_id\", \"friends\")"
   ]
  },
  {
   "cell_type": "code",
   "execution_count": 39,
   "metadata": {},
   "outputs": [
    {
     "name": "stdout",
     "output_type": "stream",
     "text": [
      "+----------------------+----------------------------------------------------------------------------------------------+\n",
      "|user_id               |friends                                                                                       |\n",
      "+----------------------+----------------------------------------------------------------------------------------------+\n",
      "|-0Ji0nOyFe-4yo8BK4aRLA|EmdUN-cFy25hTj2lcD4Ryw, MXaSUovIC5U8d4GYzi2eoQ, c7sqkbx5Y_KXNGsI3i4GYw, gkXdOxE7TxTPIgon21miUg|\n",
      "+----------------------+----------------------------------------------------------------------------------------------+\n",
      "only showing top 1 row\n",
      "\n"
     ]
    }
   ],
   "source": [
    "users_edge.select(\"user_id\",\"friends\").show(1, truncate = False)"
   ]
  },
  {
   "cell_type": "markdown",
   "metadata": {},
   "source": [
    "Each friend's user_id is seperated by a comma. We'll transform this into an array and explode to get user_id to friend_id for each user to user connection. "
   ]
  },
  {
   "cell_type": "code",
   "execution_count": 18,
   "metadata": {},
   "outputs": [],
   "source": [
    "users_friends = users_edge.select(\"user_id\", split(col(\"friends\"),\",\").alias(\"FriendArray\")) \\\n",
    "    .drop(\"friends\")"
   ]
  },
  {
   "cell_type": "code",
   "execution_count": 19,
   "metadata": {},
   "outputs": [
    {
     "name": "stdout",
     "output_type": "stream",
     "text": [
      "+----------------------+-----------------------+\n",
      "|user_id               |friend_id              |\n",
      "+----------------------+-----------------------+\n",
      "|-0Ji0nOyFe-4yo8BK4aRLA|EmdUN-cFy25hTj2lcD4Ryw |\n",
      "|-0Ji0nOyFe-4yo8BK4aRLA| MXaSUovIC5U8d4GYzi2eoQ|\n",
      "|-0Ji0nOyFe-4yo8BK4aRLA| c7sqkbx5Y_KXNGsI3i4GYw|\n",
      "|-0Ji0nOyFe-4yo8BK4aRLA| gkXdOxE7TxTPIgon21miUg|\n",
      "|-25JZ2VjrGZfXR8EaW8vBA|Q-DDwor2okiMIuM5mVewRA |\n",
      "+----------------------+-----------------------+\n",
      "only showing top 5 rows\n",
      "\n"
     ]
    }
   ],
   "source": [
    "#remove users with no friends, explode rest\n",
    "user_friends_expanded = users_friends.select(users_friends.user_id,explode(users_friends.FriendArray).alias(\"friend_id\"))\n",
    "user_friends_expanded.show(5, truncate = False)"
   ]
  },
  {
   "cell_type": "markdown",
   "metadata": {},
   "source": [
    "We now have a row for each user to user connection. Finally, we create our source/destination columns and add attributes columns from our user to business edges to allow for union of the two edge dataframes. "
   ]
  },
  {
   "cell_type": "code",
   "execution_count": 20,
   "metadata": {},
   "outputs": [],
   "source": [
    "user_friends_expanded= user_friends_expanded.withColumn(\"src\", user_friends_expanded[\"user_id\"])\n",
    "user_friends_expanded = user_friends_expanded.withColumn(\"dst\", user_friends_expanded[\"friend_id\"])"
   ]
  },
  {
   "cell_type": "code",
   "execution_count": 21,
   "metadata": {},
   "outputs": [],
   "source": [
    "cols = [\"date\", \"review_id\", \"text\", \"stars\"]   \n",
    "\n",
    "for c in cols:\n",
    "    user_friends_expanded = user_friends_expanded.withColumn(c, lit(None))"
   ]
  },
  {
   "cell_type": "code",
   "execution_count": 22,
   "metadata": {},
   "outputs": [],
   "source": [
    "#select needed columns and reorder to line up with user-business edge df\n",
    "user_friends_expanded = user_friends_expanded.select('dst', 'date', 'review_id', \"text\", \"stars\", \"src\")"
   ]
  },
  {
   "cell_type": "markdown",
   "metadata": {},
   "source": [
    "We'll add a connection type column to each dataframe to label the type of edge: 0 for user to business and 1 for user to user. "
   ]
  },
  {
   "cell_type": "code",
   "execution_count": 23,
   "metadata": {},
   "outputs": [],
   "source": [
    "#add type of edge connection\n",
    "user_business = user_business.withColumn(\"connection_type\", lit(0))\n",
    "user_friends_expanded = user_friends_expanded.withColumn(\"connection_type\", lit(1))"
   ]
  },
  {
   "cell_type": "markdown",
   "metadata": {},
   "source": [
    "Let's check that our schemas line up before doing a union."
   ]
  },
  {
   "cell_type": "code",
   "execution_count": 62,
   "metadata": {
    "scrolled": true
   },
   "outputs": [
    {
     "name": "stdout",
     "output_type": "stream",
     "text": [
      "root\n",
      " |-- dst: string (nullable = true)\n",
      " |-- date: null (nullable = true)\n",
      " |-- review_id: null (nullable = true)\n",
      " |-- text: null (nullable = true)\n",
      " |-- stars: null (nullable = true)\n",
      " |-- src: string (nullable = true)\n",
      " |-- connection_type: integer (nullable = false)\n",
      "\n"
     ]
    }
   ],
   "source": [
    "user_friends_expanded.printSchema()"
   ]
  },
  {
   "cell_type": "code",
   "execution_count": 60,
   "metadata": {},
   "outputs": [
    {
     "name": "stdout",
     "output_type": "stream",
     "text": [
      "root\n",
      " |-- dst: string (nullable = true)\n",
      " |-- date: timestamp (nullable = true)\n",
      " |-- review_id: string (nullable = true)\n",
      " |-- text: string (nullable = true)\n",
      " |-- stars: string (nullable = true)\n",
      " |-- src: string (nullable = true)\n",
      " |-- connection_type: integer (nullable = false)\n",
      "\n"
     ]
    }
   ],
   "source": [
    "user_business.printSchema()"
   ]
  },
  {
   "cell_type": "code",
   "execution_count": 24,
   "metadata": {},
   "outputs": [],
   "source": [
    "edge_df = user_business.union(user_friends_expanded)"
   ]
  },
  {
   "cell_type": "code",
   "execution_count": 63,
   "metadata": {
    "scrolled": false
   },
   "outputs": [
    {
     "data": {
      "text/plain": [
       "[('dst', 'string'),\n",
       " ('date', 'timestamp'),\n",
       " ('review_id', 'string'),\n",
       " ('text', 'string'),\n",
       " ('stars', 'string'),\n",
       " ('src', 'string'),\n",
       " ('connection_type', 'int')]"
      ]
     },
     "execution_count": 63,
     "metadata": {},
     "output_type": "execute_result"
    }
   ],
   "source": [
    "edge_df.dtypes"
   ]
  },
  {
   "cell_type": "code",
   "execution_count": 77,
   "metadata": {
    "scrolled": false
   },
   "outputs": [
    {
     "name": "stdout",
     "output_type": "stream",
     "text": [
      "+--------------------+-------------------+--------------------+--------------------+-----+--------------------+\n",
      "|                 dst|               date|           review_id|                text|stars|                 src|\n",
      "+--------------------+-------------------+--------------------+--------------------+-----+--------------------+\n",
      "|-0wZIJnbYSstEGj3u...|2019-11-14 22:39:24|rrL1-bh6tMNSMKvx5...|This agent doesn'...|  1.0|gjZ-HBBJ2sNKMwL8x...|\n",
      "|-LqsFXfZDziytsnVq...|2019-02-04 22:35:18|TKlL65VgqGGVpGnvz...|The Purple Fig ha...|  5.0|707raSOaJBZpof1UB...|\n",
      "|-LqsFXfZDziytsnVq...|2020-12-02 17:29:38|pYAlyWozWYpTA5NqS...|Still loving the ...|  5.0|m98Y2CbHYTjSoPheE...|\n",
      "|-LqsFXfZDziytsnVq...|2021-01-07 23:13:08|bwGQKkJOOTM4JGx-b...|I have been sitti...|  2.0|WTpA4GEULakoL_NLn...|\n",
      "|-LqsFXfZDziytsnVq...|2020-09-15 20:07:24|cg2NLaXFycGGGk1VZ...|Id like to start ...|  1.0|8kUlGcK7l2Yc7sKX0...|\n",
      "+--------------------+-------------------+--------------------+--------------------+-----+--------------------+\n",
      "only showing top 5 rows\n",
      "\n"
     ]
    }
   ],
   "source": [
    "edge_df.show(5)"
   ]
  },
  {
   "cell_type": "markdown",
   "metadata": {},
   "source": [
    "## Create Graph - Basic Analysis"
   ]
  },
  {
   "cell_type": "code",
   "execution_count": 25,
   "metadata": {},
   "outputs": [],
   "source": [
    "#build Graph - GraphFrame(vertices, edges)\n",
    "graph = GraphFrame(node, edge_df)"
   ]
  },
  {
   "cell_type": "code",
   "execution_count": 81,
   "metadata": {},
   "outputs": [
    {
     "name": "stdout",
     "output_type": "stream",
     "text": [
      "+--------------------+----+--------------------+--------------------+--------------------+--------------------+-------------+--------------+\n",
      "|                  id|type|             address|          categories|               hours|                name|     latitude|     longitude|\n",
      "+--------------------+----+--------------------+--------------------+--------------------+--------------------+-------------+--------------+\n",
      "|-ZzsPlaAgwO3yt29u...|   0|                    |Professional Serv...|[9:0-17:0, 9:0-17...|      ATX Architects|   30.3911673|   -97.7051165|\n",
      "|-x9y3f2IXWnWhZyeQ...|   0|      5201 McDade Dr|Arts & Entertainm...|[10:0-19:0, 10:0-...|   Party Boat Austin|    30.255226|    -97.832213|\n",
      "|1P0gza0EoFe-mQ026...|   0|3201 Bee Caves Rd...|Fitness & Instruc...|[5:15-18:30, 5:15...|F45 Training West...|    30.272058|    -97.800736|\n",
      "|1m3r_ABHzUvm0H9vQ...|   0|2600 Lake Austin ...|Apartments, Home ...|[9:0-18:0, 0:0-0:...|The Boulevard at ...|    30.280437|    -97.773594|\n",
      "|2b5S-XLh6gcUGHPad...|   0|2727 Exposition B...|Fashion, Shopping...|[8:0-20:0, 0:0-0:...|  Tarrytown Pharmacy|30.3036351014|-97.7639331594|\n",
      "+--------------------+----+--------------------+--------------------+--------------------+--------------------+-------------+--------------+\n",
      "only showing top 5 rows\n",
      "\n"
     ]
    }
   ],
   "source": [
    "graph.vertices.show(5)"
   ]
  },
  {
   "cell_type": "code",
   "execution_count": 30,
   "metadata": {},
   "outputs": [
    {
     "name": "stdout",
     "output_type": "stream",
     "text": [
      "+--------------------+-------------------+--------------------+--------------------+-----+--------------------+---------------+\n",
      "|                 dst|               date|           review_id|                text|stars|                 src|connection_type|\n",
      "+--------------------+-------------------+--------------------+--------------------+-----+--------------------+---------------+\n",
      "|-0wZIJnbYSstEGj3u...|2019-11-14 22:39:24|rrL1-bh6tMNSMKvx5...|This agent doesn'...|  1.0|gjZ-HBBJ2sNKMwL8x...|              0|\n",
      "|-LqsFXfZDziytsnVq...|2019-02-04 22:35:18|TKlL65VgqGGVpGnvz...|The Purple Fig ha...|  5.0|707raSOaJBZpof1UB...|              0|\n",
      "|-LqsFXfZDziytsnVq...|2020-12-02 17:29:38|pYAlyWozWYpTA5NqS...|Still loving the ...|  5.0|m98Y2CbHYTjSoPheE...|              0|\n",
      "|-LqsFXfZDziytsnVq...|2021-01-07 23:13:08|bwGQKkJOOTM4JGx-b...|I have been sitti...|  2.0|WTpA4GEULakoL_NLn...|              0|\n",
      "|-LqsFXfZDziytsnVq...|2020-09-15 20:07:24|cg2NLaXFycGGGk1VZ...|Id like to start ...|  1.0|8kUlGcK7l2Yc7sKX0...|              0|\n",
      "+--------------------+-------------------+--------------------+--------------------+-----+--------------------+---------------+\n",
      "only showing top 5 rows\n",
      "\n"
     ]
    }
   ],
   "source": [
    "graph.edges.show(5)"
   ]
  },
  {
   "cell_type": "code",
   "execution_count": 50,
   "metadata": {},
   "outputs": [
    {
     "data": {
      "text/plain": [
       "142578"
      ]
     },
     "execution_count": 50,
     "metadata": {},
     "output_type": "execute_result"
    }
   ],
   "source": [
    "#How many nodes?\n",
    "graph.vertices.count()"
   ]
  },
  {
   "cell_type": "code",
   "execution_count": 51,
   "metadata": {},
   "outputs": [
    {
     "data": {
      "text/plain": [
       "268362"
      ]
     },
     "execution_count": 51,
     "metadata": {},
     "output_type": "execute_result"
    }
   ],
   "source": [
    "graph.edges.count()"
   ]
  },
  {
   "cell_type": "code",
   "execution_count": 94,
   "metadata": {},
   "outputs": [
    {
     "name": "stdout",
     "output_type": "stream",
     "text": [
      "+----------------------+------+\n",
      "|id                    |degree|\n",
      "+----------------------+------+\n",
      "|None                  |54543 |\n",
      "|hizGc5W1tBHPghM5YKCAtg|9233  |\n",
      "|djxnI8Ux8ZYQJhiOQkrRhA|8786  |\n",
      "|3zxy3LVBV3ttxoYbY4rQ8A|7008  |\n",
      "|NfU0zDaTMEQ4-X9dbQWd9A|6851  |\n",
      "|8I7DLn7dPu76HQImdoqzQg|6795  |\n",
      "|3mNz5nQFTIBQm0oU5mBR0w|6778  |\n",
      "|AHRrG3T1gJpHvtpZ-K0G_g|6612  |\n",
      "|DOj9NanlJP3xntULCy5Uow|6423  |\n",
      "|GFyA9ULGAeD-xZEPto2y7A|6250  |\n",
      "+----------------------+------+\n",
      "only showing top 10 rows\n",
      "\n"
     ]
    }
   ],
   "source": [
    "#Most connected nodes\n",
    "graph.degrees.orderBy(\"degree\", ascending=False).show(10, truncate = False)"
   ]
  },
  {
   "cell_type": "code",
   "execution_count": 95,
   "metadata": {},
   "outputs": [
    {
     "name": "stdout",
     "output_type": "stream",
     "text": [
      "+----------------------+---------+\n",
      "|user_id               |user_name|\n",
      "+----------------------+---------+\n",
      "|hizGc5W1tBHPghM5YKCAtg|Katie    |\n",
      "+----------------------+---------+\n",
      "\n"
     ]
    }
   ],
   "source": [
    "users.select(\"user_id\", \"user_name\").filter(users.user_id == \"hizGc5W1tBHPghM5YKCAtg\").show(truncate = False)"
   ]
  },
  {
   "cell_type": "code",
   "execution_count": 86,
   "metadata": {},
   "outputs": [
    {
     "name": "stdout",
     "output_type": "stream",
     "text": [
      "+----------------------+----------------------+-----+\n",
      "|src                   |dst                   |count|\n",
      "+----------------------+----------------------+-----+\n",
      "|AqzHptL1OCi4ELlXKCfEpg|07vsMfjupodO4am9KE46xQ|12   |\n",
      "|RpwQrvDNsKcc2WTVR9wtrA|ezOGxXnOE4ZoBnEkDTAvww|8    |\n",
      "|Lu4-NKrpJbSBpUcZPogovg|u5ztKk_mmNKyhRHBFRgZuQ|8    |\n",
      "|wLUTJQJL64IPHI55K39Ykw|v0N7mWzaekhyNi0c93JEVg|7    |\n",
      "|Lu4-NKrpJbSBpUcZPogovg|YDawSup__BY0EekWbA9T6w|7    |\n",
      "+----------------------+----------------------+-----+\n",
      "only showing top 5 rows\n",
      "\n"
     ]
    }
   ],
   "source": [
    "#most connected nodes\n",
    "connectionCount = graph.edges.groupBy(\"src\", \"dst\").count().orderBy(\"count\", ascending = False)\n",
    "\n",
    "connectionCount.show(5, truncate= False)"
   ]
  },
  {
   "cell_type": "code",
   "execution_count": 93,
   "metadata": {},
   "outputs": [
    {
     "name": "stdout",
     "output_type": "stream",
     "text": [
      "+--------------------+---------+\n",
      "|             user_id|user_name|\n",
      "+--------------------+---------+\n",
      "|AqzHptL1OCi4ELlXK...| Victoria|\n",
      "+--------------------+---------+\n",
      "\n"
     ]
    }
   ],
   "source": [
    "users.select(\"user_id\", \"user_name\").filter(users.user_id == \"AqzHptL1OCi4ELlXKCfEpg\").show(truncate = False)"
   ]
  },
  {
   "cell_type": "code",
   "execution_count": 90,
   "metadata": {},
   "outputs": [
    {
     "name": "stdout",
     "output_type": "stream",
     "text": [
      "+----------------------+------------------------------+\n",
      "|business_id           |name                          |\n",
      "+----------------------+------------------------------+\n",
      "|07vsMfjupodO4am9KE46xQ|Waterloo Ice House Burnet Road|\n",
      "+----------------------+------------------------------+\n",
      "only showing top 1 row\n",
      "\n"
     ]
    }
   ],
   "source": [
    "data.select(\"business_id\", \"name\").filter(data.business_id == \"07vsMfjupodO4am9KE46xQ\").show(1, truncate = False)"
   ]
  },
  {
   "cell_type": "markdown",
   "metadata": {},
   "source": [
    "Victoria has actually reviewed Waterloo Ice House 12 times!\n",
    "\n",
    "https://www.yelp.com/biz/waterloo-ice-house-burnet-road-austin-4\n",
    "\n",
    "Attempted to use the pageRank algorithm to find the most influential user, however, RCC kept giving errors when attempting. "
   ]
  },
  {
   "cell_type": "code",
   "execution_count": 97,
   "metadata": {},
   "outputs": [
    {
     "ename": "Py4JJavaError",
     "evalue": "An error occurred while calling o861.run.\n: org.apache.spark.SparkException: Job aborted due to stage failure: Task 16 in stage 148.0 failed 4 times, most recent failure: Lost task 16.3 in stage 148.0 (TID 6554, hd01.rcc.local, executor 481): java.lang.ClassNotFoundException: org.graphframes.GraphFrame$$anonfun$5\n\tat java.net.URLClassLoader.findClass(URLClassLoader.java:381)\n\tat java.lang.ClassLoader.loadClass(ClassLoader.java:424)\n\tat java.lang.ClassLoader.loadClass(ClassLoader.java:357)\n\tat java.lang.Class.forName0(Native Method)\n\tat java.lang.Class.forName(Class.java:348)\n\tat org.apache.spark.serializer.JavaDeserializationStream$$anon$1.resolveClass(JavaSerializer.scala:67)\n\tat java.io.ObjectInputStream.readNonProxyDesc(ObjectInputStream.java:1868)\n\tat java.io.ObjectInputStream.readClassDesc(ObjectInputStream.java:1751)\n\tat java.io.ObjectInputStream.readOrdinaryObject(ObjectInputStream.java:2042)\n\tat java.io.ObjectInputStream.readObject0(ObjectInputStream.java:1573)\n\tat java.io.ObjectInputStream.defaultReadFields(ObjectInputStream.java:2287)\n\tat java.io.ObjectInputStream.readSerialData(ObjectInputStream.java:2211)\n\tat java.io.ObjectInputStream.readOrdinaryObject(ObjectInputStream.java:2069)\n\tat java.io.ObjectInputStream.readObject0(ObjectInputStream.java:1573)\n\tat java.io.ObjectInputStream.defaultReadFields(ObjectInputStream.java:2287)\n\tat java.io.ObjectInputStream.readSerialData(ObjectInputStream.java:2211)\n\tat java.io.ObjectInputStream.readOrdinaryObject(ObjectInputStream.java:2069)\n\tat java.io.ObjectInputStream.readObject0(ObjectInputStream.java:1573)\n\tat java.io.ObjectInputStream.defaultReadFields(ObjectInputStream.java:2287)\n\tat java.io.ObjectInputStream.readSerialData(ObjectInputStream.java:2211)\n\tat java.io.ObjectInputStream.readOrdinaryObject(ObjectInputStream.java:2069)\n\tat java.io.ObjectInputStream.readObject0(ObjectInputStream.java:1573)\n\tat java.io.ObjectInputStream.readObject(ObjectInputStream.java:431)\n\tat org.apache.spark.serializer.JavaDeserializationStream.readObject(JavaSerializer.scala:75)\n\tat org.apache.spark.serializer.JavaSerializerInstance.deserialize(JavaSerializer.scala:114)\n\tat org.apache.spark.scheduler.ShuffleMapTask.runTask(ShuffleMapTask.scala:88)\n\tat org.apache.spark.scheduler.ShuffleMapTask.runTask(ShuffleMapTask.scala:55)\n\tat org.apache.spark.scheduler.Task.run(Task.scala:121)\n\tat org.apache.spark.executor.Executor$TaskRunner$$anonfun$11.apply(Executor.scala:407)\n\tat org.apache.spark.util.Utils$.tryWithSafeFinally(Utils.scala:1408)\n\tat org.apache.spark.executor.Executor$TaskRunner.run(Executor.scala:413)\n\tat java.util.concurrent.ThreadPoolExecutor.runWorker(ThreadPoolExecutor.java:1149)\n\tat java.util.concurrent.ThreadPoolExecutor$Worker.run(ThreadPoolExecutor.java:624)\n\tat java.lang.Thread.run(Thread.java:748)\n\nDriver stacktrace:\n\tat org.apache.spark.scheduler.DAGScheduler.org$apache$spark$scheduler$DAGScheduler$$failJobAndIndependentStages(DAGScheduler.scala:1890)\n\tat org.apache.spark.scheduler.DAGScheduler$$anonfun$abortStage$1.apply(DAGScheduler.scala:1878)\n\tat org.apache.spark.scheduler.DAGScheduler$$anonfun$abortStage$1.apply(DAGScheduler.scala:1877)\n\tat scala.collection.mutable.ResizableArray$class.foreach(ResizableArray.scala:59)\n\tat scala.collection.mutable.ArrayBuffer.foreach(ArrayBuffer.scala:48)\n\tat org.apache.spark.scheduler.DAGScheduler.abortStage(DAGScheduler.scala:1877)\n\tat org.apache.spark.scheduler.DAGScheduler$$anonfun$handleTaskSetFailed$1.apply(DAGScheduler.scala:929)\n\tat org.apache.spark.scheduler.DAGScheduler$$anonfun$handleTaskSetFailed$1.apply(DAGScheduler.scala:929)\n\tat scala.Option.foreach(Option.scala:257)\n\tat org.apache.spark.scheduler.DAGScheduler.handleTaskSetFailed(DAGScheduler.scala:929)\n\tat org.apache.spark.scheduler.DAGSchedulerEventProcessLoop.doOnReceive(DAGScheduler.scala:2111)\n\tat org.apache.spark.scheduler.DAGSchedulerEventProcessLoop.onReceive(DAGScheduler.scala:2060)\n\tat org.apache.spark.scheduler.DAGSchedulerEventProcessLoop.onReceive(DAGScheduler.scala:2049)\n\tat org.apache.spark.util.EventLoop$$anon$1.run(EventLoop.scala:49)\n\tat org.apache.spark.scheduler.DAGScheduler.runJob(DAGScheduler.scala:740)\n\tat org.apache.spark.SparkContext.runJob(SparkContext.scala:2081)\n\tat org.apache.spark.SparkContext.runJob(SparkContext.scala:2178)\n\tat org.apache.spark.rdd.RDD$$anonfun$reduce$1.apply(RDD.scala:1035)\n\tat org.apache.spark.rdd.RDDOperationScope$.withScope(RDDOperationScope.scala:151)\n\tat org.apache.spark.rdd.RDDOperationScope$.withScope(RDDOperationScope.scala:112)\n\tat org.apache.spark.rdd.RDD.withScope(RDD.scala:363)\n\tat org.apache.spark.rdd.RDD.reduce(RDD.scala:1017)\n\tat org.apache.spark.graphx.impl.VertexRDDImpl.count(VertexRDDImpl.scala:90)\n\tat org.apache.spark.graphx.Pregel$.apply(Pregel.scala:140)\n\tat org.apache.spark.graphx.lib.PageRank$.runUntilConvergenceWithOptions(PageRank.scala:355)\n\tat org.graphframes.lib.PageRank$.runUntilConvergence(PageRank.scala:152)\n\tat org.graphframes.lib.PageRank.run(PageRank.scala:102)\n\tat sun.reflect.NativeMethodAccessorImpl.invoke0(Native Method)\n\tat sun.reflect.NativeMethodAccessorImpl.invoke(NativeMethodAccessorImpl.java:62)\n\tat sun.reflect.DelegatingMethodAccessorImpl.invoke(DelegatingMethodAccessorImpl.java:43)\n\tat java.lang.reflect.Method.invoke(Method.java:498)\n\tat py4j.reflection.MethodInvoker.invoke(MethodInvoker.java:244)\n\tat py4j.reflection.ReflectionEngine.invoke(ReflectionEngine.java:357)\n\tat py4j.Gateway.invoke(Gateway.java:282)\n\tat py4j.commands.AbstractCommand.invokeMethod(AbstractCommand.java:132)\n\tat py4j.commands.CallCommand.execute(CallCommand.java:79)\n\tat py4j.GatewayConnection.run(GatewayConnection.java:238)\n\tat java.lang.Thread.run(Thread.java:748)\nCaused by: java.lang.ClassNotFoundException: org.graphframes.GraphFrame$$anonfun$5\n\tat java.net.URLClassLoader.findClass(URLClassLoader.java:381)\n\tat java.lang.ClassLoader.loadClass(ClassLoader.java:424)\n\tat java.lang.ClassLoader.loadClass(ClassLoader.java:357)\n\tat java.lang.Class.forName0(Native Method)\n\tat java.lang.Class.forName(Class.java:348)\n\tat org.apache.spark.serializer.JavaDeserializationStream$$anon$1.resolveClass(JavaSerializer.scala:67)\n\tat java.io.ObjectInputStream.readNonProxyDesc(ObjectInputStream.java:1868)\n\tat java.io.ObjectInputStream.readClassDesc(ObjectInputStream.java:1751)\n\tat java.io.ObjectInputStream.readOrdinaryObject(ObjectInputStream.java:2042)\n\tat java.io.ObjectInputStream.readObject0(ObjectInputStream.java:1573)\n\tat java.io.ObjectInputStream.defaultReadFields(ObjectInputStream.java:2287)\n\tat java.io.ObjectInputStream.readSerialData(ObjectInputStream.java:2211)\n\tat java.io.ObjectInputStream.readOrdinaryObject(ObjectInputStream.java:2069)\n\tat java.io.ObjectInputStream.readObject0(ObjectInputStream.java:1573)\n\tat java.io.ObjectInputStream.defaultReadFields(ObjectInputStream.java:2287)\n\tat java.io.ObjectInputStream.readSerialData(ObjectInputStream.java:2211)\n\tat java.io.ObjectInputStream.readOrdinaryObject(ObjectInputStream.java:2069)\n\tat java.io.ObjectInputStream.readObject0(ObjectInputStream.java:1573)\n\tat java.io.ObjectInputStream.defaultReadFields(ObjectInputStream.java:2287)\n\tat java.io.ObjectInputStream.readSerialData(ObjectInputStream.java:2211)\n\tat java.io.ObjectInputStream.readOrdinaryObject(ObjectInputStream.java:2069)\n\tat java.io.ObjectInputStream.readObject0(ObjectInputStream.java:1573)\n\tat java.io.ObjectInputStream.readObject(ObjectInputStream.java:431)\n\tat org.apache.spark.serializer.JavaDeserializationStream.readObject(JavaSerializer.scala:75)\n\tat org.apache.spark.serializer.JavaSerializerInstance.deserialize(JavaSerializer.scala:114)\n\tat org.apache.spark.scheduler.ShuffleMapTask.runTask(ShuffleMapTask.scala:88)\n\tat org.apache.spark.scheduler.ShuffleMapTask.runTask(ShuffleMapTask.scala:55)\n\tat org.apache.spark.scheduler.Task.run(Task.scala:121)\n\tat org.apache.spark.executor.Executor$TaskRunner$$anonfun$11.apply(Executor.scala:407)\n\tat org.apache.spark.util.Utils$.tryWithSafeFinally(Utils.scala:1408)\n\tat org.apache.spark.executor.Executor$TaskRunner.run(Executor.scala:413)\n\tat java.util.concurrent.ThreadPoolExecutor.runWorker(ThreadPoolExecutor.java:1149)\n\tat java.util.concurrent.ThreadPoolExecutor$Worker.run(ThreadPoolExecutor.java:624)\n\t... 1 more\n",
     "output_type": "error",
     "traceback": [
      "\u001b[0;31m---------------------------------------------------------------------------\u001b[0m",
      "\u001b[0;31mPy4JJavaError\u001b[0m                             Traceback (most recent call last)",
      "\u001b[0;32m<ipython-input-97-f8e3cc6574e2>\u001b[0m in \u001b[0;36m<module>\u001b[0;34m()\u001b[0m\n\u001b[1;32m      1\u001b[0m \u001b[0;31m#Run PageRank until convergence to tolerance \"tol\".\u001b[0m\u001b[0;34m\u001b[0m\u001b[0;34m\u001b[0m\u001b[0;34m\u001b[0m\u001b[0m\n\u001b[0;32m----> 2\u001b[0;31m \u001b[0mresults\u001b[0m \u001b[0;34m=\u001b[0m \u001b[0mgraph\u001b[0m\u001b[0;34m.\u001b[0m\u001b[0mpageRank\u001b[0m\u001b[0;34m(\u001b[0m\u001b[0mresetProbability\u001b[0m\u001b[0;34m=\u001b[0m\u001b[0;36m0.15\u001b[0m\u001b[0;34m,\u001b[0m \u001b[0mtol\u001b[0m\u001b[0;34m=\u001b[0m \u001b[0;36m0.1\u001b[0m\u001b[0;34m)\u001b[0m\u001b[0;34m\u001b[0m\u001b[0;34m\u001b[0m\u001b[0m\n\u001b[0m\u001b[1;32m      3\u001b[0m \u001b[0mresults\u001b[0m\u001b[0;34m.\u001b[0m\u001b[0mvertices\u001b[0m\u001b[0;34m.\u001b[0m\u001b[0morderBy\u001b[0m\u001b[0;34m(\u001b[0m\u001b[0;34m'pagerank'\u001b[0m\u001b[0;34m,\u001b[0m\u001b[0mascending\u001b[0m\u001b[0;34m=\u001b[0m\u001b[0;32mFalse\u001b[0m\u001b[0;34m)\u001b[0m\u001b[0;34m.\u001b[0m\u001b[0mshow\u001b[0m\u001b[0;34m(\u001b[0m\u001b[0;34m)\u001b[0m\u001b[0;34m\u001b[0m\u001b[0;34m\u001b[0m\u001b[0m\n",
      "\u001b[0;32m/software/Anaconda3-5.1.0-hadoop/lib/python3.6/site-packages/graphframes/graphframe.py\u001b[0m in \u001b[0;36mpageRank\u001b[0;34m(self, resetProbability, sourceId, maxIter, tol)\u001b[0m\n\u001b[1;32m    357\u001b[0m             \u001b[0;32massert\u001b[0m \u001b[0mtol\u001b[0m \u001b[0;32mis\u001b[0m \u001b[0;32mnot\u001b[0m \u001b[0;32mNone\u001b[0m\u001b[0;34m,\u001b[0m \u001b[0;34m\"Exactly one of maxIter or tol should be set.\"\u001b[0m\u001b[0;34m\u001b[0m\u001b[0;34m\u001b[0m\u001b[0m\n\u001b[1;32m    358\u001b[0m             \u001b[0mbuilder\u001b[0m \u001b[0;34m=\u001b[0m \u001b[0mbuilder\u001b[0m\u001b[0;34m.\u001b[0m\u001b[0mtol\u001b[0m\u001b[0;34m(\u001b[0m\u001b[0mtol\u001b[0m\u001b[0;34m)\u001b[0m\u001b[0;34m\u001b[0m\u001b[0;34m\u001b[0m\u001b[0m\n\u001b[0;32m--> 359\u001b[0;31m         \u001b[0mjgf\u001b[0m \u001b[0;34m=\u001b[0m \u001b[0mbuilder\u001b[0m\u001b[0;34m.\u001b[0m\u001b[0mrun\u001b[0m\u001b[0;34m(\u001b[0m\u001b[0;34m)\u001b[0m\u001b[0;34m\u001b[0m\u001b[0;34m\u001b[0m\u001b[0m\n\u001b[0m\u001b[1;32m    360\u001b[0m         \u001b[0;32mreturn\u001b[0m \u001b[0m_from_java_gf\u001b[0m\u001b[0;34m(\u001b[0m\u001b[0mjgf\u001b[0m\u001b[0;34m,\u001b[0m \u001b[0mself\u001b[0m\u001b[0;34m.\u001b[0m\u001b[0m_sqlContext\u001b[0m\u001b[0;34m)\u001b[0m\u001b[0;34m\u001b[0m\u001b[0;34m\u001b[0m\u001b[0m\n\u001b[1;32m    361\u001b[0m \u001b[0;34m\u001b[0m\u001b[0m\n",
      "\u001b[0;32m/opt/cloudera/parcels/CDH/lib/spark/python/lib/py4j-0.10.7-src.zip/py4j/java_gateway.py\u001b[0m in \u001b[0;36m__call__\u001b[0;34m(self, *args)\u001b[0m\n\u001b[1;32m   1255\u001b[0m         \u001b[0manswer\u001b[0m \u001b[0;34m=\u001b[0m \u001b[0mself\u001b[0m\u001b[0;34m.\u001b[0m\u001b[0mgateway_client\u001b[0m\u001b[0;34m.\u001b[0m\u001b[0msend_command\u001b[0m\u001b[0;34m(\u001b[0m\u001b[0mcommand\u001b[0m\u001b[0;34m)\u001b[0m\u001b[0;34m\u001b[0m\u001b[0;34m\u001b[0m\u001b[0m\n\u001b[1;32m   1256\u001b[0m         return_value = get_return_value(\n\u001b[0;32m-> 1257\u001b[0;31m             answer, self.gateway_client, self.target_id, self.name)\n\u001b[0m\u001b[1;32m   1258\u001b[0m \u001b[0;34m\u001b[0m\u001b[0m\n\u001b[1;32m   1259\u001b[0m         \u001b[0;32mfor\u001b[0m \u001b[0mtemp_arg\u001b[0m \u001b[0;32min\u001b[0m \u001b[0mtemp_args\u001b[0m\u001b[0;34m:\u001b[0m\u001b[0;34m\u001b[0m\u001b[0;34m\u001b[0m\u001b[0m\n",
      "\u001b[0;32m/opt/cloudera/parcels/CDH/lib/spark/python/lib/pyspark.zip/pyspark/sql/utils.py\u001b[0m in \u001b[0;36mdeco\u001b[0;34m(*a, **kw)\u001b[0m\n\u001b[1;32m     61\u001b[0m     \u001b[0;32mdef\u001b[0m \u001b[0mdeco\u001b[0m\u001b[0;34m(\u001b[0m\u001b[0;34m*\u001b[0m\u001b[0ma\u001b[0m\u001b[0;34m,\u001b[0m \u001b[0;34m**\u001b[0m\u001b[0mkw\u001b[0m\u001b[0;34m)\u001b[0m\u001b[0;34m:\u001b[0m\u001b[0;34m\u001b[0m\u001b[0;34m\u001b[0m\u001b[0m\n\u001b[1;32m     62\u001b[0m         \u001b[0;32mtry\u001b[0m\u001b[0;34m:\u001b[0m\u001b[0;34m\u001b[0m\u001b[0;34m\u001b[0m\u001b[0m\n\u001b[0;32m---> 63\u001b[0;31m             \u001b[0;32mreturn\u001b[0m \u001b[0mf\u001b[0m\u001b[0;34m(\u001b[0m\u001b[0;34m*\u001b[0m\u001b[0ma\u001b[0m\u001b[0;34m,\u001b[0m \u001b[0;34m**\u001b[0m\u001b[0mkw\u001b[0m\u001b[0;34m)\u001b[0m\u001b[0;34m\u001b[0m\u001b[0;34m\u001b[0m\u001b[0m\n\u001b[0m\u001b[1;32m     64\u001b[0m         \u001b[0;32mexcept\u001b[0m \u001b[0mpy4j\u001b[0m\u001b[0;34m.\u001b[0m\u001b[0mprotocol\u001b[0m\u001b[0;34m.\u001b[0m\u001b[0mPy4JJavaError\u001b[0m \u001b[0;32mas\u001b[0m \u001b[0me\u001b[0m\u001b[0;34m:\u001b[0m\u001b[0;34m\u001b[0m\u001b[0;34m\u001b[0m\u001b[0m\n\u001b[1;32m     65\u001b[0m             \u001b[0ms\u001b[0m \u001b[0;34m=\u001b[0m \u001b[0me\u001b[0m\u001b[0;34m.\u001b[0m\u001b[0mjava_exception\u001b[0m\u001b[0;34m.\u001b[0m\u001b[0mtoString\u001b[0m\u001b[0;34m(\u001b[0m\u001b[0;34m)\u001b[0m\u001b[0;34m\u001b[0m\u001b[0;34m\u001b[0m\u001b[0m\n",
      "\u001b[0;32m/opt/cloudera/parcels/CDH/lib/spark/python/lib/py4j-0.10.7-src.zip/py4j/protocol.py\u001b[0m in \u001b[0;36mget_return_value\u001b[0;34m(answer, gateway_client, target_id, name)\u001b[0m\n\u001b[1;32m    326\u001b[0m                 raise Py4JJavaError(\n\u001b[1;32m    327\u001b[0m                     \u001b[0;34m\"An error occurred while calling {0}{1}{2}.\\n\"\u001b[0m\u001b[0;34m.\u001b[0m\u001b[0;34m\u001b[0m\u001b[0;34m\u001b[0m\u001b[0m\n\u001b[0;32m--> 328\u001b[0;31m                     format(target_id, \".\", name), value)\n\u001b[0m\u001b[1;32m    329\u001b[0m             \u001b[0;32melse\u001b[0m\u001b[0;34m:\u001b[0m\u001b[0;34m\u001b[0m\u001b[0;34m\u001b[0m\u001b[0m\n\u001b[1;32m    330\u001b[0m                 raise Py4JError(\n",
      "\u001b[0;31mPy4JJavaError\u001b[0m: An error occurred while calling o861.run.\n: org.apache.spark.SparkException: Job aborted due to stage failure: Task 16 in stage 148.0 failed 4 times, most recent failure: Lost task 16.3 in stage 148.0 (TID 6554, hd01.rcc.local, executor 481): java.lang.ClassNotFoundException: org.graphframes.GraphFrame$$anonfun$5\n\tat java.net.URLClassLoader.findClass(URLClassLoader.java:381)\n\tat java.lang.ClassLoader.loadClass(ClassLoader.java:424)\n\tat java.lang.ClassLoader.loadClass(ClassLoader.java:357)\n\tat java.lang.Class.forName0(Native Method)\n\tat java.lang.Class.forName(Class.java:348)\n\tat org.apache.spark.serializer.JavaDeserializationStream$$anon$1.resolveClass(JavaSerializer.scala:67)\n\tat java.io.ObjectInputStream.readNonProxyDesc(ObjectInputStream.java:1868)\n\tat java.io.ObjectInputStream.readClassDesc(ObjectInputStream.java:1751)\n\tat java.io.ObjectInputStream.readOrdinaryObject(ObjectInputStream.java:2042)\n\tat java.io.ObjectInputStream.readObject0(ObjectInputStream.java:1573)\n\tat java.io.ObjectInputStream.defaultReadFields(ObjectInputStream.java:2287)\n\tat java.io.ObjectInputStream.readSerialData(ObjectInputStream.java:2211)\n\tat java.io.ObjectInputStream.readOrdinaryObject(ObjectInputStream.java:2069)\n\tat java.io.ObjectInputStream.readObject0(ObjectInputStream.java:1573)\n\tat java.io.ObjectInputStream.defaultReadFields(ObjectInputStream.java:2287)\n\tat java.io.ObjectInputStream.readSerialData(ObjectInputStream.java:2211)\n\tat java.io.ObjectInputStream.readOrdinaryObject(ObjectInputStream.java:2069)\n\tat java.io.ObjectInputStream.readObject0(ObjectInputStream.java:1573)\n\tat java.io.ObjectInputStream.defaultReadFields(ObjectInputStream.java:2287)\n\tat java.io.ObjectInputStream.readSerialData(ObjectInputStream.java:2211)\n\tat java.io.ObjectInputStream.readOrdinaryObject(ObjectInputStream.java:2069)\n\tat java.io.ObjectInputStream.readObject0(ObjectInputStream.java:1573)\n\tat java.io.ObjectInputStream.readObject(ObjectInputStream.java:431)\n\tat org.apache.spark.serializer.JavaDeserializationStream.readObject(JavaSerializer.scala:75)\n\tat org.apache.spark.serializer.JavaSerializerInstance.deserialize(JavaSerializer.scala:114)\n\tat org.apache.spark.scheduler.ShuffleMapTask.runTask(ShuffleMapTask.scala:88)\n\tat org.apache.spark.scheduler.ShuffleMapTask.runTask(ShuffleMapTask.scala:55)\n\tat org.apache.spark.scheduler.Task.run(Task.scala:121)\n\tat org.apache.spark.executor.Executor$TaskRunner$$anonfun$11.apply(Executor.scala:407)\n\tat org.apache.spark.util.Utils$.tryWithSafeFinally(Utils.scala:1408)\n\tat org.apache.spark.executor.Executor$TaskRunner.run(Executor.scala:413)\n\tat java.util.concurrent.ThreadPoolExecutor.runWorker(ThreadPoolExecutor.java:1149)\n\tat java.util.concurrent.ThreadPoolExecutor$Worker.run(ThreadPoolExecutor.java:624)\n\tat java.lang.Thread.run(Thread.java:748)\n\nDriver stacktrace:\n\tat org.apache.spark.scheduler.DAGScheduler.org$apache$spark$scheduler$DAGScheduler$$failJobAndIndependentStages(DAGScheduler.scala:1890)\n\tat org.apache.spark.scheduler.DAGScheduler$$anonfun$abortStage$1.apply(DAGScheduler.scala:1878)\n\tat org.apache.spark.scheduler.DAGScheduler$$anonfun$abortStage$1.apply(DAGScheduler.scala:1877)\n\tat scala.collection.mutable.ResizableArray$class.foreach(ResizableArray.scala:59)\n\tat scala.collection.mutable.ArrayBuffer.foreach(ArrayBuffer.scala:48)\n\tat org.apache.spark.scheduler.DAGScheduler.abortStage(DAGScheduler.scala:1877)\n\tat org.apache.spark.scheduler.DAGScheduler$$anonfun$handleTaskSetFailed$1.apply(DAGScheduler.scala:929)\n\tat org.apache.spark.scheduler.DAGScheduler$$anonfun$handleTaskSetFailed$1.apply(DAGScheduler.scala:929)\n\tat scala.Option.foreach(Option.scala:257)\n\tat org.apache.spark.scheduler.DAGScheduler.handleTaskSetFailed(DAGScheduler.scala:929)\n\tat org.apache.spark.scheduler.DAGSchedulerEventProcessLoop.doOnReceive(DAGScheduler.scala:2111)\n\tat org.apache.spark.scheduler.DAGSchedulerEventProcessLoop.onReceive(DAGScheduler.scala:2060)\n\tat org.apache.spark.scheduler.DAGSchedulerEventProcessLoop.onReceive(DAGScheduler.scala:2049)\n\tat org.apache.spark.util.EventLoop$$anon$1.run(EventLoop.scala:49)\n\tat org.apache.spark.scheduler.DAGScheduler.runJob(DAGScheduler.scala:740)\n\tat org.apache.spark.SparkContext.runJob(SparkContext.scala:2081)\n\tat org.apache.spark.SparkContext.runJob(SparkContext.scala:2178)\n\tat org.apache.spark.rdd.RDD$$anonfun$reduce$1.apply(RDD.scala:1035)\n\tat org.apache.spark.rdd.RDDOperationScope$.withScope(RDDOperationScope.scala:151)\n\tat org.apache.spark.rdd.RDDOperationScope$.withScope(RDDOperationScope.scala:112)\n\tat org.apache.spark.rdd.RDD.withScope(RDD.scala:363)\n\tat org.apache.spark.rdd.RDD.reduce(RDD.scala:1017)\n\tat org.apache.spark.graphx.impl.VertexRDDImpl.count(VertexRDDImpl.scala:90)\n\tat org.apache.spark.graphx.Pregel$.apply(Pregel.scala:140)\n\tat org.apache.spark.graphx.lib.PageRank$.runUntilConvergenceWithOptions(PageRank.scala:355)\n\tat org.graphframes.lib.PageRank$.runUntilConvergence(PageRank.scala:152)\n\tat org.graphframes.lib.PageRank.run(PageRank.scala:102)\n\tat sun.reflect.NativeMethodAccessorImpl.invoke0(Native Method)\n\tat sun.reflect.NativeMethodAccessorImpl.invoke(NativeMethodAccessorImpl.java:62)\n\tat sun.reflect.DelegatingMethodAccessorImpl.invoke(DelegatingMethodAccessorImpl.java:43)\n\tat java.lang.reflect.Method.invoke(Method.java:498)\n\tat py4j.reflection.MethodInvoker.invoke(MethodInvoker.java:244)\n\tat py4j.reflection.ReflectionEngine.invoke(ReflectionEngine.java:357)\n\tat py4j.Gateway.invoke(Gateway.java:282)\n\tat py4j.commands.AbstractCommand.invokeMethod(AbstractCommand.java:132)\n\tat py4j.commands.CallCommand.execute(CallCommand.java:79)\n\tat py4j.GatewayConnection.run(GatewayConnection.java:238)\n\tat java.lang.Thread.run(Thread.java:748)\nCaused by: java.lang.ClassNotFoundException: org.graphframes.GraphFrame$$anonfun$5\n\tat java.net.URLClassLoader.findClass(URLClassLoader.java:381)\n\tat java.lang.ClassLoader.loadClass(ClassLoader.java:424)\n\tat java.lang.ClassLoader.loadClass(ClassLoader.java:357)\n\tat java.lang.Class.forName0(Native Method)\n\tat java.lang.Class.forName(Class.java:348)\n\tat org.apache.spark.serializer.JavaDeserializationStream$$anon$1.resolveClass(JavaSerializer.scala:67)\n\tat java.io.ObjectInputStream.readNonProxyDesc(ObjectInputStream.java:1868)\n\tat java.io.ObjectInputStream.readClassDesc(ObjectInputStream.java:1751)\n\tat java.io.ObjectInputStream.readOrdinaryObject(ObjectInputStream.java:2042)\n\tat java.io.ObjectInputStream.readObject0(ObjectInputStream.java:1573)\n\tat java.io.ObjectInputStream.defaultReadFields(ObjectInputStream.java:2287)\n\tat java.io.ObjectInputStream.readSerialData(ObjectInputStream.java:2211)\n\tat java.io.ObjectInputStream.readOrdinaryObject(ObjectInputStream.java:2069)\n\tat java.io.ObjectInputStream.readObject0(ObjectInputStream.java:1573)\n\tat java.io.ObjectInputStream.defaultReadFields(ObjectInputStream.java:2287)\n\tat java.io.ObjectInputStream.readSerialData(ObjectInputStream.java:2211)\n\tat java.io.ObjectInputStream.readOrdinaryObject(ObjectInputStream.java:2069)\n\tat java.io.ObjectInputStream.readObject0(ObjectInputStream.java:1573)\n\tat java.io.ObjectInputStream.defaultReadFields(ObjectInputStream.java:2287)\n\tat java.io.ObjectInputStream.readSerialData(ObjectInputStream.java:2211)\n\tat java.io.ObjectInputStream.readOrdinaryObject(ObjectInputStream.java:2069)\n\tat java.io.ObjectInputStream.readObject0(ObjectInputStream.java:1573)\n\tat java.io.ObjectInputStream.readObject(ObjectInputStream.java:431)\n\tat org.apache.spark.serializer.JavaDeserializationStream.readObject(JavaSerializer.scala:75)\n\tat org.apache.spark.serializer.JavaSerializerInstance.deserialize(JavaSerializer.scala:114)\n\tat org.apache.spark.scheduler.ShuffleMapTask.runTask(ShuffleMapTask.scala:88)\n\tat org.apache.spark.scheduler.ShuffleMapTask.runTask(ShuffleMapTask.scala:55)\n\tat org.apache.spark.scheduler.Task.run(Task.scala:121)\n\tat org.apache.spark.executor.Executor$TaskRunner$$anonfun$11.apply(Executor.scala:407)\n\tat org.apache.spark.util.Utils$.tryWithSafeFinally(Utils.scala:1408)\n\tat org.apache.spark.executor.Executor$TaskRunner.run(Executor.scala:413)\n\tat java.util.concurrent.ThreadPoolExecutor.runWorker(ThreadPoolExecutor.java:1149)\n\tat java.util.concurrent.ThreadPoolExecutor$Worker.run(ThreadPoolExecutor.java:624)\n\t... 1 more\n"
     ]
    }
   ],
   "source": [
    "#Run PageRank until convergence to tolerance \"tol\".\n",
    "results = graph.pageRank(resetProbability=0.15, tol= 0.01)\n",
    "results.vertices.orderBy('pagerank',ascending=False).show()"
   ]
  },
  {
   "cell_type": "code",
   "execution_count": 56,
   "metadata": {},
   "outputs": [
    {
     "name": "stdout",
     "output_type": "stream",
     "text": [
      "+----------------------+----------------------+\n",
      "|business_id           |user_id               |\n",
      "+----------------------+----------------------+\n",
      "|-0wZIJnbYSstEGj3uXTmmA|gjZ-HBBJ2sNKMwL8xudRZA|\n",
      "|-LqsFXfZDziytsnVqbuS2Q|707raSOaJBZpof1UBJ7pOw|\n",
      "|-LqsFXfZDziytsnVqbuS2Q|m98Y2CbHYTjSoPheElJguQ|\n",
      "|-LqsFXfZDziytsnVqbuS2Q|WTpA4GEULakoL_NLnimPlA|\n",
      "|-LqsFXfZDziytsnVqbuS2Q|8kUlGcK7l2Yc7sKX0vXnfw|\n",
      "+----------------------+----------------------+\n",
      "only showing top 5 rows\n",
      "\n"
     ]
    }
   ],
   "source": [
    "data.select(\"business_id\", \"user_id\").show(5, truncate = False)"
   ]
  },
  {
   "cell_type": "markdown",
   "metadata": {},
   "source": [
    "## Build Recommender\n",
    "\n",
    "We'll now attempt to create a recommender system leveraging our graph. There are two initially obvious routes to achieve:\n",
    "\n",
    "1. Use the user to business edges to map an input user to other users who had a similar business rating. Then, find the businesses the other users have frequented (and given a high rating to). Recommend these businesses to our input user.\n",
    "2. Use the user to user edges to map an input user to businesses their friends have given a high rating.\n",
    "\n",
    "For our recommender, we'll take the 1st path, as our dataset is much more rich in attribute information for the user to businesses edge types.\n",
    "\n",
    "We will use a motif to traverse our graph for the businesses of interest. Our motif will:\n",
    "\n",
    "1. connect an input user to all the businesses the input user has reviewed\n",
    "2. find new users that have also reviewed the businesses the input user has reviewed\n",
    "3. find all businesses the new users have reviewed\n",
    "\n",
    "From our motif result, we will take the rating our input user has given each reviewed business and find the absolute difference in rating with all the other users who have reviewed each similar business. The goal is to find users who rated the business the same or almost the same as the input user, the assumption being these users like similar businesses. \n",
    "\n",
    "We now have a list of businesses other users have reviewed that we can potentially recommend to our input user. We'll filter out any businesses that our new users gave a rating of 3 or less stars, thus keeping only the businesses reviewed positively. \n",
    "\n",
    "Finally, we'll sort our data based on our input user's assumed location for relevance and drop duplicate business recs that may have resulted from multiple new users reviewing the same business. "
   ]
  },
  {
   "cell_type": "markdown",
   "metadata": {},
   "source": [
    "#### Train Word2Vec\n",
    "\n",
    "To make more relevant recommendations, we'll take the business category column and create a word embeddings with Word2Vec. This will allow our recommender to measure similiarty in business types. "
   ]
  },
  {
   "cell_type": "code",
   "execution_count": 26,
   "metadata": {},
   "outputs": [],
   "source": [
    "data_no_na = data.dropna(thresh=1,subset=('categories'))"
   ]
  },
  {
   "cell_type": "code",
   "execution_count": 27,
   "metadata": {},
   "outputs": [
    {
     "name": "stdout",
     "output_type": "stream",
     "text": [
      "+--------------------+--------------------+------+--------------------+------------+--------------+--------------------+-------+----+-------------------+-----+--------------------+-----+--------------------+------+--------------------+--------------------+\n",
      "|         business_id|             address|  city|                name|review_count|business_stars|          categories|is_open|cool|               date|funny|           review_id|stars|                text|useful|             user_id|    categories_token|\n",
      "+--------------------+--------------------+------+--------------------+------------+--------------+--------------------+-------+----+-------------------+-----+--------------------+-----+--------------------+------+--------------------+--------------------+\n",
      "|-0wZIJnbYSstEGj3u...|3810 Medical Pkwy...|Austin|Allstate Insuranc...|           5|           2.0|Insurance, Home &...|      1|   0|2019-11-14 22:39:24|    0|rrL1-bh6tMNSMKvx5...|  1.0|This agent doesn'...|     0|gjZ-HBBJ2sNKMwL8x...|[insurance, home,...|\n",
      "|-LqsFXfZDziytsnVq...|5555 N Lamar Blvd...|Austin|The Purple Fig Ec...|          86|           4.5|Home Cleaning, Ca...|      1|   0|2019-02-04 22:35:18|    0|TKlL65VgqGGVpGnvz...|  5.0|The Purple Fig ha...|     0|707raSOaJBZpof1UB...|[home, cleaning, ...|\n",
      "|-LqsFXfZDziytsnVq...|5555 N Lamar Blvd...|Austin|The Purple Fig Ec...|          86|           4.5|Home Cleaning, Ca...|      1|   0|2020-12-02 17:29:38|    0|pYAlyWozWYpTA5NqS...|  5.0|Still loving the ...|     0|m98Y2CbHYTjSoPheE...|[home, cleaning, ...|\n",
      "+--------------------+--------------------+------+--------------------+------------+--------------+--------------------+-------+----+-------------------+-----+--------------------+-----+--------------------+------+--------------------+--------------------+\n",
      "only showing top 3 rows\n",
      "\n"
     ]
    }
   ],
   "source": [
    "from pyspark.ml.feature import RegexTokenizer\n",
    "\n",
    "regexTokenizer = RegexTokenizer(gaps = False, pattern = '\\w+', inputCol = 'categories', outputCol = 'categories_token')\n",
    "\n",
    "austin_categories_token = regexTokenizer.transform(data_no_na)\n",
    "austin_categories_token.show(3)"
   ]
  },
  {
   "cell_type": "code",
   "execution_count": 28,
   "metadata": {},
   "outputs": [],
   "source": [
    "from pyspark.ml.feature import Word2Vec\n",
    "#create an average word vector for each category column\n",
    "word2vec = Word2Vec(vectorSize = 100, minCount = 5, inputCol = 'categories_token', outputCol = 'categories_vector')\n",
    "model = word2vec.fit(austin_categories_token)"
   ]
  },
  {
   "cell_type": "markdown",
   "metadata": {},
   "source": [
    "#### Graph Motif"
   ]
  },
  {
   "cell_type": "code",
   "execution_count": 26,
   "metadata": {
    "scrolled": false
   },
   "outputs": [],
   "source": [
    "input_user = \"Lu4-NKrpJbSBpUcZPogovg\"\n",
    "filter_user = (\"input_user.id = '{}'\".format(input_user))\n",
    "rating_mult = graph.find(\"(input_user)-[e]->(input_user_business); (new_user)-[e2]->(input_user_business); (new_user)-[e3]->(new_user_business)\").dropDuplicates().filter(filter_user)"
   ]
  },
  {
   "cell_type": "code",
   "execution_count": 36,
   "metadata": {},
   "outputs": [],
   "source": [
    "#remove cases when input user is same as new user\n",
    "results = rating_mult.select(\"input_user\", \"e.stars\", \"input_user_business.name\", \"e2.stars\", \"new_user\", \"e3.stars\", \"new_user_business.name\")"
   ]
  },
  {
   "cell_type": "code",
   "execution_count": 39,
   "metadata": {},
   "outputs": [
    {
     "name": "stdout",
     "output_type": "stream",
     "text": [
      "+--------------------+-----+--------------------+-----+--------------------+-----+--------------------+\n",
      "|          input_user|stars|                name|stars|            new_user|stars|                name|\n",
      "+--------------------+-----+--------------------+-----+--------------------+-----+--------------------+\n",
      "|[Lu4-NKrpJbSBpUcZ...|  5.0|     Texas Roadhouse|  4.0|[3sI5kFZp8lKWohkH...|  4.0|  Vespaio Ristorante|\n",
      "|[Lu4-NKrpJbSBpUcZ...|  4.0|P. Terry's Burger...|  3.0|[lya2z8lpqWVGD3u4...|  5.0|Perry’s Steakhous...|\n",
      "|[Lu4-NKrpJbSBpUcZ...|  5.0|Rudy's \"Country S...|  4.0|[I2AM0Xh5clFA3iyF...|  1.0|      Ramen Tatsu-Ya|\n",
      "|[Lu4-NKrpJbSBpUcZ...|  1.0|Eurasia Sushi Bar...|  5.0|[T6K1U65wS7NtR1QX...|  5.0|      Ramen Tatsu-Ya|\n",
      "|[Lu4-NKrpJbSBpUcZ...|  3.0|Eurasia Sushi Bar...|  5.0|[Kj_MYdysEwQORXOG...|  1.0|  Sandy's Hamburgers|\n",
      "|[Lu4-NKrpJbSBpUcZ...|  1.0|      Sonic Drive-In|  3.0|[q3cxC9tv3bmPE74i...|  3.0|          Bert's BBQ|\n",
      "|[Lu4-NKrpJbSBpUcZ...|  3.0|Alamo Drafthouse ...|  5.0|[t6eNIzThY2QCarVZ...|  5.0|        PostalAnnex+|\n",
      "|[Lu4-NKrpJbSBpUcZ...|  5.0|              Target|  4.0|[q3cxC9tv3bmPE74i...|  5.0|St Andrew's Episc...|\n",
      "|[Lu4-NKrpJbSBpUcZ...|  3.0|     Pinthouse Pizza|  4.0|[hBRPfyanAA-0xx1v...|  4.0|Cooper's Old Time...|\n",
      "|[Lu4-NKrpJbSBpUcZ...|  4.0|     Texas Roadhouse|  4.0|[GLjWC3oPZJlBUYUw...|  3.0|    Home Slice Pizza|\n",
      "|[Lu4-NKrpJbSBpUcZ...|  3.0|     Pinthouse Pizza|  5.0|[JaqcCU3nxReTW2cB...|  4.0|Cosmic Coffee + B...|\n",
      "|[Lu4-NKrpJbSBpUcZ...|  1.0|Eurasia Sushi Bar...|  5.0|[iK3rXDUZCdc7BJ5m...|  5.0|          BookPeople|\n",
      "|[Lu4-NKrpJbSBpUcZ...|  4.0|              Pieous|  4.0|[_tm5XdVoIlfH5PCe...|  4.0|China's Family Re...|\n",
      "|[Lu4-NKrpJbSBpUcZ...|  5.0|   Maudie’s Hacienda|  5.0|[IA6g_H9QlY_yXsT9...|  5.0|         The Belmont|\n",
      "|[Lu4-NKrpJbSBpUcZ...|  3.0|          Taco Ranch|  3.0|[s9jbQyCn2p_SDc7o...|  5.0|Moonshine Patio B...|\n",
      "|[Lu4-NKrpJbSBpUcZ...|  3.0|     Pinthouse Pizza|  5.0|[jGRAfOXCqGPny0U2...|  4.0|The Grove Wine Ba...|\n",
      "|[Lu4-NKrpJbSBpUcZ...|  3.0|Alamo Drafthouse ...|  5.0|[oRO3H4BW-IvEi9GS...|  5.0|           Starbucks|\n",
      "|[Lu4-NKrpJbSBpUcZ...|  3.0|          Taco Ranch|  3.0|[_L0vlwBOSdNHs3vh...|  4.0|           Starbucks|\n",
      "|[Lu4-NKrpJbSBpUcZ...|  5.0|       Me Con Bistro|  3.0|[HMUnp55Q8_vxIEPl...|  1.0|         Burger King|\n",
      "|[Lu4-NKrpJbSBpUcZ...|  4.0|       Me Con Bistro|  3.0|[HMUnp55Q8_vxIEPl...|  4.0|Otherside Deli an...|\n",
      "+--------------------+-----+--------------------+-----+--------------------+-----+--------------------+\n",
      "only showing top 20 rows\n",
      "\n"
     ]
    }
   ],
   "source": [
    "results.filter(results.new_user.id != \"Lu4-NKrpJbSBpUcZPogovg\").show()"
   ]
  },
  {
   "cell_type": "markdown",
   "metadata": {},
   "source": [
    "The below is a user defined function that uses our motif and applies basic logic to filter down to business to recommend a new user. "
   ]
  },
  {
   "cell_type": "code",
   "execution_count": 61,
   "metadata": {},
   "outputs": [],
   "source": [
    "#function for distance calculations\n",
    "def haversine(lon1, lat1, lon2, lat2):\n",
    "    # convert decimal degrees to radians \n",
    "    lon1, lat1, lon2, lat2 = map(radians, [lon1, lat1, lon2, lat2])\n",
    "\n",
    "    # haversine formula \n",
    "    dlon = lon2 - lon1 \n",
    "    dlat = lat2 - lat1 \n",
    "    a = sin(dlat/2)**2 + cos(lat1) * cos(lat2) * sin(dlon/2)**2\n",
    "    c = 2 * asin(sqrt(a)) \n",
    "    r = 3956 # Radius of earth in miles. Determines return value units.\n",
    "    return c * r\n",
    "\n",
    "def get_recs(input_user, user_lat, user_lng):\n",
    "    filter_user = (\"input_user.id = '{}'\".format(input_user))\n",
    "    #find which businesses user rated that rated same business as input user\n",
    "    rating_mult = graph.find(\"(input_user)-[e]->(input_user_business); (new_user)-[e2]->(input_user_business); (new_user)-[e3]->(new_user_business)\").dropDuplicates().filter(filter_user)\n",
    "    \n",
    "    filtered_businesses = rating_mult.select(col(\"new_user_business.id\").alias(\"business_id\"), col(\"new_user_business.name\").alias(\"business_name\"),\n",
    "    col(\"new_user_business.categories\").alias(\"categories\"), col(\"new_user_business.latitude\").alias(\"latitude\"), \n",
    "    col(\"new_user_business.longitude\").alias(\"longitude\"), col(\"new_user.id\").alias(\"new_user_id\"),\n",
    "    col(\"e.stars\").alias(\"input_user_rating\"),\n",
    "    col(\"e2.stars\").alias(\"new_user_rating\"),col(\"e3.stars\").alias(\"new_user_new_business_rating\")).withColumn(\n",
    "    \"abs_of_col\", abs((col(\"input_user_rating\")-col(\"new_user_rating\")))).filter(col(\"new_user.id\") != input_user)\n",
    "    \n",
    "    #save min abs of difference between input user rating and new user rating as variable for filter\n",
    "    min_abs = filtered_businesses.agg(F.min(\"abs_of_col\")).first()(0)\n",
    "\n",
    "    #filter out businesses with same input and new user rating\n",
    "    filtered_businesses = filtered_businesses.filter(filtered_businesses.abs_of_col == min_abs[0])\n",
    "\n",
    "    #filter out new businesses with reviews greater than 3\n",
    "    filtered_businesses = filtered_businesses.filter(filtered_businesses.new_user_new_business_rating > 3)\n",
    "    filtered_businesses = filtered_businesses.dropna()\n",
    "\n",
    "    austin_categories_token = regexTokenizer.transform(filtered_businesses)\n",
    "\n",
    "    result = model.transform(austin_categories_token)\n",
    "\n",
    "    result = result.dropDuplicates(subset=[\"business_id\"])\n",
    "    \n",
    "    result = result.drop(\"categories_token\")\n",
    "    \n",
    "    filtered_to_pandas = result.toPandas()\n",
    "    \n",
    "    filtered_to_pandas_duplicates = filtered_to_pandas.drop_duplicates(subset=\"business_id\")\n",
    "    \n",
    "    distance_from = []\n",
    "    for idx in range(len(filtered_to_pandas_duplicates)):\n",
    "        lon1 = filtered_to_pandas_duplicates['longitude'][idx]\n",
    "        lat1 = filtered_to_pandas_duplicates['latitude'][idx]\n",
    "\n",
    "        distance_from.append(haversine(lon1, lat1, user_lng, user_lat))\n",
    "        \n",
    "    \n",
    "    filtered_to_pandas_duplicates['distance_from'] = distance_from\n",
    "\n",
    "    filtered_to_pandas_duplicates = filtered_to_pandas_duplicates.sort_values(by = \"distance_from\")\n",
    "    \n",
    "    return filtered_to_pandas_duplicates\n"
   ]
  },
  {
   "cell_type": "code",
   "execution_count": 93,
   "metadata": {},
   "outputs": [
    {
     "name": "stdout",
     "output_type": "stream",
     "text": [
      "CPU times: user 265 ms, sys: 35.8 ms, total: 300 ms\n",
      "Wall time: 1min 57s\n"
     ]
    }
   ],
   "source": [
    "%%time\n",
    "input_user = \"Lu4-NKrpJbSBpUcZPogovg\"\n",
    "recs = get_recs(input_user, user_lat = 30.270555, user_lng = -97.742895)"
   ]
  },
  {
   "cell_type": "markdown",
   "metadata": {},
   "source": [
    "Finally, let's remove any businesses our input user has already left a review for."
   ]
  },
  {
   "cell_type": "code",
   "execution_count": 123,
   "metadata": {},
   "outputs": [],
   "source": [
    "input_user_data = data.select(\"user_id\", \"business_id\", \"date\", \"categories\").filter(data.user_id == input_user)"
   ]
  },
  {
   "cell_type": "code",
   "execution_count": 124,
   "metadata": {},
   "outputs": [],
   "source": [
    "#remove duplicate businesses\n",
    "recs = recs[recs['business_id'].isin(new_only)]"
   ]
  },
  {
   "cell_type": "code",
   "execution_count": 104,
   "metadata": {},
   "outputs": [
    {
     "data": {
      "text/plain": [
       "[('-127E2yrTl8VRT8Zh-IzcA', 1),\n",
       " ('-745cYuxU-Yzi5wsTTl1zg', 1),\n",
       " ('-OY5qbkkKvD1YGaN6UhzsA', 3),\n",
       " ('-Xq4VkojyDxOlGQ0Ln-IXw', 1),\n",
       " ('-_DkhGsCaWJbN3aB1GmTJg', 5),\n",
       " ('-_x2o73mzJ7BgCAydBpM9Q', 1),\n",
       " ('-e8XaCNfSHYzIy7YFATXFA', 30),\n",
       " ('-r684wP4J3WpDWBfSjwkeg', 10),\n",
       " ('-r90xzlwlB_huF8wSL3v1A', 1),\n",
       " ('-trl7htF1I1_BH7D3ZYDqg', 1),\n",
       " ('-uTleVV7SJJdmTZmQ3PEPg', 19),\n",
       " ('-vFl5LV9Aqd494V9F4FBcQ', 47),\n",
       " ('-yHEt4nmx6SEWW0bhFAtKg', 3),\n",
       " ('0-fkc1VF28tFEYq6TWR45w', 1),\n",
       " ('06YeNfSpBoAu3ZAeA7vATg', 2),\n",
       " ('07ZsxJOKSRXBZJ02kT6pEA', 1),\n",
       " ('09VGyGnKbkgnGoyWUZGOiA', 3),\n",
       " ('0NgeMvzs99zI-gkfhP3LSQ', 2),\n",
       " ('0P0ivEq2UxllE9UA5WhIug', 2),\n",
       " ('0PrV9wgHBnDwb71F-ZhMag', 20),\n",
       " ('0QHl8KVCaT1wKfS33v2dUw', 10),\n",
       " ('0a-Wbn8KmP5Vu7eRibfH5g', 3),\n",
       " ('0cir6cd1hbrelrfYzMPNSw', 21),\n",
       " ('0zCuittKrx-eImNva8udaw', 1),\n",
       " ('18KRbHUM-uCgR94of218Qg', 2),\n",
       " ('19MQQFLbpI5z6PYhHrG2mg', 2),\n",
       " ('1LpnOswhApttYj4C1Sr2Jg', 11),\n",
       " ('1O638BDK_fWuxgTVJwff-A', 94),\n",
       " ('1P8W9bHpiWdM4te1kNo66g', 3),\n",
       " ('1hW4ZhhmpnphKwfrYVnDIQ', 1),\n",
       " ('1jLGFOjk5zRu6KyMD6WCyA', 2),\n",
       " ('1m1qGywU8wGdT6a_EGvFdg', 1),\n",
       " ('1rq24gZsum5ofeLV4QYVnw', 5),\n",
       " ('1tObli6sTFk4iyAN9A84rA', 4),\n",
       " ('1yizm-DgDr-jCQv2KcCqMA', 3),\n",
       " ('1yqMZSQq3Y9UgXLUv9kNoA', 1),\n",
       " ('212C6XGw90Awpv_rRxm43g', 1),\n",
       " ('24HwIOVHkqzaS3YRwkBPGQ', 3),\n",
       " ('26DgpXLNsJ1CrOzDWD9snQ', 2),\n",
       " ('2Rj4ESvABPu_sz4EhwJkcw', 23),\n",
       " ('2SK6mGUs5GReMV4L2Yvcuw', 4),\n",
       " ('2SPDoF0yiEdiEcK4By03Hw', 12),\n",
       " ('2SgUVguo9eC3FtiooQX1iQ', 1),\n",
       " ('2ZZa77fpoB9HyzursnltXg', 80),\n",
       " ('2_nmnDsm2AS8uL6A3Gwhng', 1),\n",
       " ('2amMnWQmppzFMgxQ_oO_0A', 2),\n",
       " ('2cdLJjpffyuJz9BL-2hLyQ', 1),\n",
       " ('2fwJh1QEuScyMw2pbe2l_Q', 3),\n",
       " ('2kceNKsVj4X2n3C5yxBY9w', 7),\n",
       " ('2uV7zGYSqTXb-sDCeiZ1NA', 20),\n",
       " ('2zUMo8adbvKzvL5ddeFunw', 2),\n",
       " ('37CG65RYEQl9kjIW0rkUJQ', 4),\n",
       " ('3Ezz-aJqYGs71lRhP87YZw', 7),\n",
       " ('3OxW-xQZCOMs1Se9Jes2VA', 9),\n",
       " ('3fjlg9MDj06oQ6nUPa6CNg', 3),\n",
       " ('3g6J1hnTC0T4c7pBgdV60g', 9),\n",
       " ('3gFcXAGgivPA7P74bMDp6A', 1),\n",
       " ('3jYjbMa6VbAkasV7RQYS8Q', 2),\n",
       " ('4PYBgks_s_uHNaM6wHK7Fw', 3),\n",
       " ('4ThOm_YAKnrYB7oNUp1b1Q', 3),\n",
       " ('4a8oZMzoX0JdYyAinNY_fw', 1),\n",
       " ('4mrAnpNZFvwwsm9Y6iE6Uw', 2),\n",
       " ('4tRLxCE1fLI4KoDMYjTXew', 4),\n",
       " ('50rGq9DVefzLYmkdeXpplQ', 2),\n",
       " ('57c-Z5wnzutRKBRYWIJXPA', 3),\n",
       " ('59YUTbsoKBLjLbT4qLvyPQ', 7),\n",
       " ('59Z0dXArQp-xF7GgL9X64Q', 1),\n",
       " ('5Bays01plvQsGBkj2631TQ', 1),\n",
       " ('5Coj4DLINTa86KY6_KMH8g', 1),\n",
       " ('5bY5EKlEV_IzWiU3eyKSSg', 2),\n",
       " ('5dRhP-ReCG_4BDs59txUTQ', 3),\n",
       " ('5foTzlecTR3dV3xcVsDdYg', 3),\n",
       " ('5iaLTMSN5snE-wqgbo8HiQ', 1),\n",
       " ('65UbhG9GLV0SlqqDANS4OA', 1),\n",
       " ('6D-3X5jIbcTrQLoI14IveQ', 1),\n",
       " ('6FZHK8KKSt4BLoV2dcfknw', 2),\n",
       " ('6Iz1Aga0jE1Mb5RmLvIHNg', 62),\n",
       " ('6dP49vtCsUDagSlOdcvcKg', 1),\n",
       " ('6gWr7NiOsCzATFTF4-XhZA', 27),\n",
       " ('6sTd7Qpo6IouRwTtfcBt3Q', 5),\n",
       " ('6t9-jmvXp0B-pL6lNoPA6Q', 4),\n",
       " ('7B54LTNiGrRI-ftX1phmqA', 1),\n",
       " ('7OYfVLS87I5KDGHqHfpXDA', 1),\n",
       " ('7S7htqsxpO4RBWbE9gIGEA', 8),\n",
       " ('7YO8MNEQijvevbMguxjEOg', 1),\n",
       " ('7pmWElCtdp3ykUDxJiwFLA', 5),\n",
       " ('7wF70tQKoFuA4idrkbU-gw', 1),\n",
       " ('8022lM-DITf8T5Nm_sqI5A', 3),\n",
       " ('87KmHE5POeyuSTq-wOVXnQ', 1),\n",
       " ('8QQa4yqSQC2GsZQW3imwVw', 1),\n",
       " ('8RH0kwgzfXhDcSrJZWs32A', 1),\n",
       " ('8XlB-J73QOFV91Y0e1FKPg', 22),\n",
       " ('8n__PJmgvBk_4F5bh2Zgpg', 2),\n",
       " ('8uWRNI-Y1X5OQdXjbiLaUQ', 8),\n",
       " ('942mZ9V4OUaJwOraW09trw', 2),\n",
       " ('95TC-lcXThdbngLNg5BF9w', 3),\n",
       " ('9B3T5t_mAnxCh9YXbJ0KRw', 1),\n",
       " ('9Fqb_Na3r-OTRzs0fP7hmA', 10),\n",
       " ('9JRtN_7qX8UPLzZ33GGMEA', 5),\n",
       " ('9jmqW8_1viZI9eU4fGt34w', 8),\n",
       " ('9qwBwp9Ca1XghE3NMjgNjA', 1),\n",
       " ('9xxLVsTvg_7_CfW2hyll5g', 1),\n",
       " ('ACbd5pgDXoKzvP-ZYqG-eg', 2),\n",
       " ('AITVFQS9hXDIN24G215DBg', 6),\n",
       " ('AdzOkfluJe_vWLBCJthE0g', 1),\n",
       " ('B8w9dIijjvzKBvMfUtjMRg', 3),\n",
       " ('BMFbpCHLuGnYB9g2evjYyg', 1),\n",
       " ('BSa_xCr1hIYAZc8JlwcGmw', 2),\n",
       " ('BVx7fw-HHj9AMIf9Tr5MIg', 2),\n",
       " ('BbXO9IIiZjLbURsTaSAFjA', 3),\n",
       " ('BeHYPsnL-taA1EBApuXuMw', 15),\n",
       " ('Bu2_xqDplV-Rl0J_Mafr7g', 26),\n",
       " ('C3rPGtVzFkHxgMoZtWtiKQ', 1),\n",
       " ('C4u5J8kVIXSnuwtF5xiUlQ', 2),\n",
       " ('CAIC1AmcUcM2rTO4AzGrKg', 1),\n",
       " ('CB9pVBCBeUjitslv2oB9zQ', 1),\n",
       " ('CCWEuNOHc87iYyEZlKwZSw', 11),\n",
       " ('CEz38jpGg83BGYEy2RZLFA', 1),\n",
       " ('CL6UrQcgMWgv-2DPzgbDcg', 3),\n",
       " ('CSWaSNx4mf-3MWdvSApWVw', 3),\n",
       " ('CWK93B_5LEjiXpuQkF11dg', 6),\n",
       " ('Ce13c1_g2Y1-P0kMqPdwNw', 3),\n",
       " ('CkmEDj-yy3HFyCi32lXYyA', 3),\n",
       " ('CoqUb4pQa65Xp-s1pMNaKA', 2),\n",
       " ('CrYiOSdOKjZsyNCZ4s9N1g', 30),\n",
       " ('D1Y0kxRLoTvy-BM9trLoXQ', 1),\n",
       " ('D3NywWBPdK4rTmHvE7jV8Q', 3),\n",
       " ('DAZPV3z0sUVdp3IfvlssoQ', 2),\n",
       " ('DDRRoLOItDO4YK18dp9byA', 4),\n",
       " ('DDm6nor9DS5fRePxxfWqeA', 10),\n",
       " ('DIX--Ivzi0_Q6mMUBrroLw', 2),\n",
       " ('DXk_ViFHSXI_Ertp3hoDsA', 1),\n",
       " ('DoIWAiAl0wCTHf8tG9ErBQ', 10),\n",
       " ('E1BzRaa6pR7yUFdnyDuX_A', 1),\n",
       " ('E25C6WwIvZQ5_rdwdSwiMA', 13),\n",
       " ('EE3UtC1adSzagvxwFzfXcA', 4),\n",
       " ('EY11upjGpty9L0XP4t27cA', 4),\n",
       " ('EZm_Fapmv7WqHPY8QRFnXw', 3),\n",
       " ('EaFq5xiNBgxbCa-bCSR2kQ', 1),\n",
       " ('Eg2iCHqIJf3BP5f4LAlp4g', 11),\n",
       " ('EqqKwwtGIlrxN5v59KsKtQ', 2),\n",
       " ('FLgBEHMb9Y4HE6hlTRuJUA', 13),\n",
       " ('FLh35b416V04zFLe0zq4Tw', 37),\n",
       " ('FMMrSw3Sq00-IJxIp-74jQ', 6),\n",
       " ('FQhxVUATiBrMUotQbyzF9w', 2),\n",
       " ('FXkMsJk9GSJBu-C3rBklag', 1),\n",
       " ('FfB8wjw6OaclTHv-rvo5bw', 4),\n",
       " ('Fht0RXETC9dydcnENzyBCQ', 4),\n",
       " ('FjSvQFoqw4ewukV42kUxPw', 1),\n",
       " ('Fl9_fb5RD3_72-SRN_HtHg', 1),\n",
       " ('Fl_a-bmZevYug7tWAAkRlA', 1),\n",
       " ('FtwghCHDmNnVtMsqbeQ46Q', 6),\n",
       " ('FuUAZKh6yMp9os6_EzNZ0w', 5),\n",
       " ('Fvv7PT8ipxMenWejkLbvMQ', 4),\n",
       " ('FzotYSOFJjJT3GZLMITYsA', 1),\n",
       " ('G5rdHNFJCUZ6Eid6RAQBTw', 3),\n",
       " ('GAD3Y80MtAQiThURd68ZeQ', 1),\n",
       " ('GEcDG8eVU3TwYfRpgjJcnQ', 1),\n",
       " ('GF2gJL-Z0u0UuJSmcYY0Aw', 2),\n",
       " ('GLjWC3oPZJlBUYUw4Hnr-g', 15),\n",
       " ('GS-9BDva76WHCA1zGKy66A', 1),\n",
       " ('GU1N8EvhYNfLekAkJ-Wp7A', 5),\n",
       " ('GcTCP2-AKIMdd2jftcRUCg', 1),\n",
       " ('GoQf5-P-3isxnmCpWivyGA', 1),\n",
       " ('GrzKJ-yqbnoT5GnHO97FTw', 1),\n",
       " ('GuONl9CCk1KAhRfA3_77GA', 3),\n",
       " ('H-eAoTb37FsnYi-U6DVpeQ', 1),\n",
       " ('H1uamHQKJJwMpjiHiKwl-g', 5),\n",
       " ('H3mZfUH88NWl1Es-ylMn1A', 1),\n",
       " ('HIoQYs1KrSYRYBTbnuxC2Q', 4),\n",
       " ('HQKvGDJPg2FfDtJfWzAJDA', 6),\n",
       " ('HdhOQuC6YCymwtecjL67bg', 6),\n",
       " ('HhtyCRn1F7TsPWoFnxHfiw', 1),\n",
       " ('I1BOZWzCChENqWuWRQOy8Q', 1),\n",
       " ('I3pdqclt4aZBB88kPKkhIw', 2),\n",
       " ('IA6g_H9QlY_yXsT94kdDsQ', 2),\n",
       " ('ICS5-owyeVobrU9EDS1Ylg', 1),\n",
       " ('IMA3LRjAKdFfBnwShAif2A', 1),\n",
       " ('IaygbbuFy-GI4-JBHr56Lw', 4),\n",
       " ('Ir7es4A0210IUeI-I0nEww', 1),\n",
       " ('Ix8If5BiasW4egULRkeOig', 1),\n",
       " ('IxBDJcA8Zb2U8m2ubGUfIg', 1),\n",
       " ('J2OFBwvFaeWmh9hZm1NCsA', 3),\n",
       " ('JIiO4JJqNK1cZTG2IsxX9A', 6),\n",
       " ('JRysF0GRelAzvPe3QvCsQg', 2),\n",
       " ('K3aR8F0EVHULAcv6Pfkohw', 23),\n",
       " ('KD0bYCmBCH4B9HMa_d07mA', 19),\n",
       " ('KcXa27KaMt93L6fq_sbaug', 7),\n",
       " ('Khv-X-dM2EET2VH3wXH6BA', 1),\n",
       " ('KotER8VJTSJfW4lZXHf1qg', 1),\n",
       " ('L2Ht-phE_NeXZKFuZ623-g', 1),\n",
       " ('L2mpBoDUjeWt774nGvNn0g', 2),\n",
       " ('L9vMwwIFtOPWyalZVVDfTg', 1),\n",
       " ('LBbUc4eNlnkUZZjn_odKgQ', 2),\n",
       " ('LMemEpyNWa_lrZFoFwj5yA', 8),\n",
       " ('LaC7BFs_N5UbdxQjjvOjLg', 88),\n",
       " ('Lh_iBgm6SdZNIeYpSyGoXQ', 3),\n",
       " ('MImfBWEDs-pvx1GChdHl1g', 7),\n",
       " ('MKqiymK6Er8jnNLP9TyVmQ', 2),\n",
       " ('MQYlkZ6vo18PQ-LUUPXEAA', 9),\n",
       " ('Medk7_PwG_AgvUsdCfJMMw', 1),\n",
       " ('MpIt0VPKr6b_NbuyNsnA1g', 1),\n",
       " ('Mvp0jplVEQ_OWHxEovkd0Q', 2),\n",
       " ('N-NzY2ZmYydUM1-408Hu4w', 1),\n",
       " ('N-i16PyyKV_efHhJ48JgQA', 16),\n",
       " ('N0AcXbuOkR-iLgs82970Jw', 2),\n",
       " ('N0vGKlgjT62Dz1DpXunSKQ', 3),\n",
       " ('N3PHYvNr1MV9NzMwQ5Vz-w', 31),\n",
       " ('NCJ88_PvG6hca_R9YNzy-A', 1),\n",
       " ('NHuLFl_eDxtXV1RLVOV-Tg', 24),\n",
       " ('NKfAMgAJkc7Xx6-vB3JQYg', 15),\n",
       " ('NQBoWbo03jtIpGKH6XenLg', 1),\n",
       " ('NpPu3LkmuilPLMfg1Jmh9g', 3),\n",
       " ('OBMcKyC1I4qThczQ-WHlpw', 16),\n",
       " ('OLhrORPi4sTthankrEMICg', 6),\n",
       " ('ONNF30FbGDhw1T3vA3C5fw', 7),\n",
       " ('OSDHJO192ui-dPbViFUGkw', 1),\n",
       " ('OZGxENnLY9DH71s7drXU9Q', 4),\n",
       " ('OkSj-faIksjk9KBGdr-0pQ', 1),\n",
       " ('OpD6qxJkEmcBCSUOkjRawQ', 1),\n",
       " ('OpRo_jxNhVCD9E8BHfl7Pw', 1),\n",
       " ('PCIzYdgQHxm8Nf_QL7bbXg', 1),\n",
       " ('PDSHNPxkB_eoz98-PV6TqA', 1),\n",
       " ('PDXu0w-tEjcyYzc8RPo6kg', 2),\n",
       " ('PNDmSLwBAuK0T27ZADa8jw', 1),\n",
       " ('PR97af9FLxh6UGfaeJVShg', 2),\n",
       " ('PTO0ZROi_tANSiP-glH4IA', 1),\n",
       " ('PU4dKY8IcpI3Qma0vRsV5A', 20),\n",
       " ('PapybQVcIgo99Bx7lcA68Q', 3),\n",
       " ('PejYnDI1IT7ZMZ9Q-dhYIA', 2),\n",
       " ('Pgy7cfMMXGOzHQ2Ww5KN4w', 1),\n",
       " ('PuCQIQ-wHyIL-DTy0YllVQ', 1),\n",
       " ('PxXHG8XNZG4HHiD7H9yZIg', 2),\n",
       " ('Q-nrc5Xm2erYDzkngk0nGQ', 2),\n",
       " ('Q5T0Y0_4rtYzgsIAZ2xqDA', 10),\n",
       " ('Q6rvWjC2eXrjg9OXzZEMaA', 2),\n",
       " ('QMCl2ZYmNgIDy2RcFSQRQg', 2),\n",
       " ('QTLROi3B7DQn6pLO_ZKwSA', 3),\n",
       " ('QTwk5Ij2D0lwz851-SFqdw', 33),\n",
       " ('QftAQ1FJJ6y2DD_ktU_hdQ', 1),\n",
       " ('QmcwAXSXN7AOBkvI4D3k4w', 4),\n",
       " ('QyvnjTfQDRqd-UTU9ydLxA', 2),\n",
       " ('R6iLF95N1NY_mcmn5DznIQ', 2),\n",
       " ('RCM3gwG8sC56MQxhwKfrSA', 6),\n",
       " ('RV1_SyzEZY1WLZqdf-dGiA', 11),\n",
       " ('RXfiN5i4V8nIbYy5zPn0kA', 1),\n",
       " ('RYolFBIC44VNOk_LZ0jASQ', 7),\n",
       " ('RlBDaD5HlGXHKUWDDf2Uiw', 5),\n",
       " ('RrF_NCTyeR6HCzn-sPwWAw', 3),\n",
       " ('S24YNbVtKrc82PW2U9kvRA', 4),\n",
       " ('SA5u_QMmpkShPy9Bi7kgCg', 3),\n",
       " ('SDmxRlqtc5Q2_fcZ6m3SAw', 2),\n",
       " ('SK5nnwknBAJtDVG3JLXZiQ', 7),\n",
       " ('SMP97h3uFqMGWsAMFSbK-Q', 1),\n",
       " ('SNGDGRJmYIWrLT2Cm0zTJw', 2),\n",
       " ('SahQD1n9LtH25CGKvlUX3Q', 2),\n",
       " ('SajPEHY5tAvNHxqqE2bObw', 16),\n",
       " ('St0Z_0Ponr7nljduSp5WsQ', 1),\n",
       " ('SuAi-eKw0lJmZmg51ur-4g', 1),\n",
       " ('Sz-pwoJupQfHUDs0A78VRg', 23),\n",
       " ('SztF5RGOSNPMoPn-dCtVnA', 1),\n",
       " ('T-r1q0DNMwGSUKsh4XPdjQ', 8),\n",
       " ('TAMfF2Mo3Qwbu2TYhGfG4Q', 11),\n",
       " ('TE9su5G4hUxeDQT84gZ_IA', 5),\n",
       " ('TFPKcaarG_KO4CybCXxl0w', 1),\n",
       " ('TLdLnc88AnnqamLj63Y5Ig', 1),\n",
       " ('TZgq6Tn63pic4NQogTDjzw', 1),\n",
       " ('Tf1EmLLUZ2tlpOhaU2kvpg', 11),\n",
       " ('ThJKRZWSOfRkDICYtw3JEw', 1),\n",
       " ('ThZ7EFMjSK3GKjRZn7gXtA', 1),\n",
       " ('TyA9YfTkbjoEGMCO8ccK6w', 2),\n",
       " ('U6qWz_cs1p6Licfj0T2Flw', 49),\n",
       " ('U8y3_gH9yC7cHrWrGHz_2Q', 5),\n",
       " ('UAzjbwXU-nxr6bpSYjwLjg', 1),\n",
       " ('UD7c9lR6VupSDBbrhtvkNw', 5),\n",
       " ('UQwKeCynyroh-E6bVG3DrA', 2),\n",
       " ('UTXobrN3nD6tyqynVVCjqg', 22),\n",
       " ('UVPb84sG53OgwBCDZ-5LzQ', 2),\n",
       " ('UbEaPLnXCB4KtYkyjX7uNw', 1),\n",
       " ('Ul1AD0-b--trtAQqqtWvag', 2),\n",
       " ('UsXVhOXc6PYJbMOuJTtoQQ', 1),\n",
       " ('Uza0OKbsvA8_JR7AGsyYeg', 7),\n",
       " ('V1_EBqTrKk603Xnh52fuog', 4),\n",
       " ('V6G3iHrIbktLCs8CWx6cyw', 1),\n",
       " ('VCFROgU6qSLgtOQPY-5UDw', 3),\n",
       " ('VCpADuKepVJMiaxl09_5dw', 1),\n",
       " ('Vm6PQre0YWKzG5gd4_58lg', 3),\n",
       " ('W-NBdoroH4lbzTThYURWzw', 1),\n",
       " ('W4NOYwGHdwZRMhb7BApeNQ', 3),\n",
       " ('W4znZIW_TYZeKrjAO2ZhUw', 11),\n",
       " ('WIhrdYTVpkVmkW3Ltr-fVA', 6),\n",
       " ('WpZJ5gCL2YMLBAZMo7xATg', 1),\n",
       " ('Wvot1XyAFL9OR85EwnoUlA', 4),\n",
       " ('XPSCzZNATC4-Qrzr_gEKFg', 1),\n",
       " ('XakIKx41jbn0EZqWZEMghg', 18),\n",
       " ('XbuIUjdHEN9abLD5VUlz0Q', 1),\n",
       " ('XyqFAUKJVJHXfJALmv6uKw', 1),\n",
       " ('Y1X05THbW5SW3TXv9CaW_w', 8),\n",
       " ('YI5RSeENT-fdcqmJpCpp2A', 2),\n",
       " ('YInUZBqHfMAwKA9no3Zftg', 13),\n",
       " ('YNbywl3Tj2z2JZy43uE0gg', 2),\n",
       " ('YZeXyGwXqIDpaQ4A-Lnz2Q', 1),\n",
       " ('YkuNFPeo4wPqex-QklGeDA', 24),\n",
       " ('YllWHyHsB2r_gROXJXn_ig', 15),\n",
       " ('Z2xdBFQN_b1ltL6D2CZV0Q', 2),\n",
       " ('Z7PgyizmWXKJDuKOxQdiTA', 1),\n",
       " ('ZHSHUr6KMX6vxbBtOc-u6A', 1),\n",
       " ('ZPtkgcUgSY4wIxy3YqR5Yw', 1),\n",
       " ('ZQQhTLFXDNzgW2jfwzLuaw', 2),\n",
       " ('ZUHwwF0LrWDmh6Rhsi7VyA', 3),\n",
       " ('ZXyEuGNHf0xmgaP5VBYBfA', 1),\n",
       " ('Za04ZUz8FQYyG67Mmg50Hw', 8),\n",
       " ('Zf66IDXGUlRdKS4fwzARIw', 1),\n",
       " ('ZsXUjOzbkgUrCg54Aqt7RA', 1),\n",
       " ('Zu9ImENVi3ldALdT02AOwg', 7),\n",
       " ('_3GvTLdqWhxhEchgVYmPeg', 2),\n",
       " ('_L0vlwBOSdNHs3vhz_548g', 44),\n",
       " ('_Le0MDboeXe3tVQB6-Pq7w', 16),\n",
       " ('_O69JxHf1Qxil4lHg7Carg', 1),\n",
       " ('_Qc1KiPEM3NyeueNuPLupQ', 1),\n",
       " ('__GRg38Bi2M3zMI4Rwislg', 1),\n",
       " ('_rKa8tXhFqRBOQH9I16Zng', 9),\n",
       " ('_tm5XdVoIlfH5PCeL9J5Tg', 8),\n",
       " ('a3324LIjIkToAMra5aOk1g', 2),\n",
       " ('aDLE4bqQHlzPJomJLd2qfA', 1),\n",
       " ('aEKsw5rugHmSZx3ndhMzVA', 4),\n",
       " ('aK6LlRe2I-7si5xc4gsR_g', 2),\n",
       " ('aPdsF5HUW8HW_h8xfyu64Q', 2),\n",
       " ('af8PUBFK5oGP3HjZzrUFBA', 12),\n",
       " ('ag9jovnxlu6zk_Glf4MMSw', 1),\n",
       " ('aiY44yAKyPZ8k69IoslR3w', 8),\n",
       " ('arCAfUcJo5Whe88woo_l9A', 2),\n",
       " ('b3A2LIiY8aesMRlWts-J4Q', 2),\n",
       " ('b50pL4mhjsJ4YSnu65ZkGA', 1),\n",
       " ('b8U5DRMgL48Fa8zXWKlABg', 3),\n",
       " ('bM1BkWIZ-9ILMLhv_tBd7Q', 2),\n",
       " ('bSZuKP2cf15r4tfPQSotLQ', 2),\n",
       " ('bVchqUHh5R7iu-HccZD9Iw', 8),\n",
       " ('bfR6wxCXoxT7lIIAv8iajA', 5),\n",
       " ('bhpyQv96mg5uEX8SswcIig', 8),\n",
       " ('br9hk_zyGf-BTgrjwPjsMw', 1),\n",
       " ('c2J234hj_RV4TWowmf1CVw', 1),\n",
       " ('c5Sx3mIYvVWSg8srD2GTag', 3),\n",
       " ('c6CklxjggRSwVkouPklXGg', 39),\n",
       " ('cPky7he3XULZEQ6kTV1OYA', 1),\n",
       " ('c_9E-nP0L8sRfV8qQu7MsQ', 1),\n",
       " ('cbotodqO2zCoOa5qdJ0Nsw', 2),\n",
       " ('cdEXhY8Ruuw7KYtmRez6Dg', 11),\n",
       " ('cfzcHVbtwX0aG6AZTxK-hQ', 2),\n",
       " ('cgLAVWKjWVul_u9X1sb4Zw', 1),\n",
       " ('cgrz4BGudGfyqkw6FDGjHg', 5),\n",
       " ('ch2pzJ6XNyuJFC33tX5VuQ', 2),\n",
       " ('cmVD5Ai1x__iOtNgoZjkAg', 1),\n",
       " ('cmYaDiGVfs8kEU0_QccAgQ', 2),\n",
       " ('csFQBnMP0XWQ1mChEtooNA', 4),\n",
       " ('cvrV0GVMS2Kqv_CaycfeqA', 22),\n",
       " ('czcfUbZQYX-lFEHLsmVIRA', 1),\n",
       " ('d0HLc-ABfzrwAfCc0tj_Ug', 2),\n",
       " ('dADe6pGW1OaYBWQWeIHbxg', 2),\n",
       " ('dFoyPhoqs8i3CIc7MbV8PQ', 9),\n",
       " ('dJ8FVP_NPxw9zmfUZyGdiQ', 3),\n",
       " ('dKsBjc3TqXoBv_WG7VsUqQ', 1),\n",
       " ('dZI0dht_slItgVmqr3NPlw', 3),\n",
       " ('dZm3dOyuYfmnHztcsYBZhg', 1),\n",
       " ('dmMr7fCrIlHOrWKBG1xF5A', 4),\n",
       " ('e7qd_dEplVnfa0MykfQnpQ', 5),\n",
       " ('eAOWvwdmCKIgFYx1aryoZA', 3),\n",
       " ('eB5aAVrKp8TMb9T0DZyi1Q', 1),\n",
       " ('eF_3TYyhOzBdZyUwEDV5sQ', 7),\n",
       " ('eJl7vgs5nrTobR07y0zV7w', 4),\n",
       " ('eP28dLhlm6j5RH2dB8gjPA', 2),\n",
       " ('ePX43507yLh5LqGm6XGbCQ', 21),\n",
       " ('eRPsGOd1VE7lF6pRCMVWuw', 4),\n",
       " ('eaq31izc4yUnDzlvMvEanQ', 21),\n",
       " ('eeiglYpiISW0VtFSVXDDdg', 1),\n",
       " ('ejMWe2IAWlN_Y7t85lwnCg', 2),\n",
       " ('ekDb6Gb_OX9uh6v3zWsGSw', 1),\n",
       " ('evNB0h6LrVTCuIYvDz9h5w', 2),\n",
       " ('exJF-hqtFcAyyiyT99vDEw', 1),\n",
       " ('exlILToZdM_WEpaSC1dZXw', 1),\n",
       " ('f1inDdiqibOGVq8UBGjzRQ', 1),\n",
       " ('fTLXH0n6ZNgeZg7JSeeTaw', 3),\n",
       " ('fTzHlX1qQaAKe1tRUT5Ttw', 5),\n",
       " ('fZfT15ErAOKGTJUPZ_t2VQ', 1),\n",
       " ('fevC5VwgTB3MaDhbIZbNgA', 19),\n",
       " ('fzE2kwgNDbfwpxeClmvkLg', 19),\n",
       " ('g0EqzmYwwQW4np2rJ8HBNg', 2),\n",
       " ('g1nTeeyV3RuazHcnzXss9g', 2),\n",
       " ('g7ZRhKjdMK7Ur_FAisiA-A', 1),\n",
       " ('gAjohKSPylhYa9pPb-lOew', 2),\n",
       " ('gDfyhGSozuRSpfiyenNdww', 4),\n",
       " ('gPMD9UksErx9u45Ejq1k8g', 25),\n",
       " ('gaCKavAvS7Hm4WvDNnC9hw', 4),\n",
       " ('ghAvDR1XbTfMrUUousZFxA', 1),\n",
       " ('gkzYUbef8EAXIWvYsYNdIg', 2),\n",
       " ('gvzGGvMCYgnBfQDRXJDF1g', 2),\n",
       " ('h--d4CYkt3rhO7DD1eZ3gA', 5),\n",
       " ('h61ZEMvw6kNFtWHBNMx6FA', 1),\n",
       " ('h7YK7s-uctSu_tvRTK8Vug', 2),\n",
       " ('hEzAKgsLmr68pFD-D8CSgg', 1),\n",
       " ('hMcj9bycLG9_2UPMWSEWnA', 1),\n",
       " ('hNgZ-C2wlaDLTmHJfZ7iqQ', 1),\n",
       " ('haFK0xEC54w127mfG6v1Jg', 15),\n",
       " ('hkLVRKE24kp0Pes9DoNXuA', 5),\n",
       " ('hlSZZGCZ6_G9TbRvndI9kw', 22),\n",
       " ('i-eK62OxbmXGJ6i2N4p4MQ', 2),\n",
       " ('i6TGYF0mi-FePzzS7cnqBg', 1),\n",
       " ('i_q6tnVsa7C6Ctk3oyupGg', 1),\n",
       " ('igcnVpgAYC2EMP0sXZmuTQ', 10),\n",
       " ('ipphI5IjZ8q-fSWxlPN9fw', 1),\n",
       " ('it_Jw8WdAEnXR_LzcqPOIw', 2),\n",
       " ('iyavgIytOyWOy99k6RwAwA', 6),\n",
       " ('j-3EKqibEB11G1OZC3ZF1g', 3),\n",
       " ('j38lLTlNyDR9LPTRGGYjvg', 1),\n",
       " ('jA8QxEykYOAwJCLJWsV24A', 11),\n",
       " ('jIeWA5OZgceOnPal1MqrZA', 1),\n",
       " ('jNjUsLRkcL6el_ToGXnebQ', 2),\n",
       " ('jO2ExV9YIfTAyQLcUjkleA', 5),\n",
       " ('jcsRX-yqQvhYvoFlhM9JzQ', 3),\n",
       " ('jiyFEvDW08q6DMtXgvLg_w', 1),\n",
       " ('jmjHcKDivJ8C1yeaZJ8_Kg', 3),\n",
       " ('josmbO6a_QtZJTl_2DytzQ', 4),\n",
       " ('k8LnTNnZGMjdtjLk7YFDBA', 4),\n",
       " ('kW2dk1CWihmh3g7k9N2G8A', 52),\n",
       " ('kXnjZ31bqSzT6TEtPHseMA', 3),\n",
       " ('k_0eQj_NsmManODITQdaoQ', 10),\n",
       " ('ki6o_D04biu-IPJFUuKNsA', 22),\n",
       " ('kmb1A6tcbGTiByMGkpfeEw', 2),\n",
       " ('koRCG1RumdJ8dDXwfYaVuA', 1),\n",
       " ('kuQOpXdECDoWUr0PWDSFpg', 8),\n",
       " ('l17TvxPKlCblcQlbA_m8Uw', 12),\n",
       " ('l50nUEvkQt1iLBwogsFSDw', 4),\n",
       " ('l5MzxdYt1NyrEtrRx9e3Jw', 6),\n",
       " ('l6TgzR58SROd31-4mYGdPg', 1),\n",
       " ('lAvsn0oYmwkRva9gRJFiwA', 2),\n",
       " ('lMmt1UgWGQ1-KTAVqzR1Mg', 5),\n",
       " ('lNEi_QhvQ2ZOZABlNwlI9w', 2),\n",
       " ('lNfoCFWsEZt7LKWt8lz1mQ', 1),\n",
       " ('lXJpl6IGBCPK-faM6MwPDw', 2),\n",
       " ('ljL8up0c4wglzPBZX_pQ7w', 2),\n",
       " ('ll3FVLibKg7cUyq_f4qKSQ', 3),\n",
       " ('lp8ejLl_C1HIROtS_ify2w', 1),\n",
       " ('lwxu8giUAXAtshLCC-St_A', 2),\n",
       " ('m2M9qvF1joFKisTeb7NRQw', 9),\n",
       " ('m8puxSWHaSgHE9vnweh_9Q', 1),\n",
       " ('mCylwQq-eqQJ10rbVg1J5w', 1),\n",
       " ('mEiWo2o-ayntFXFDDV_oEw', 2),\n",
       " ('mHnc6ecT9CbbBmrrh6Ofqg', 2),\n",
       " ('mO3bExZKF2udBensirn_uw', 1),\n",
       " ('mS4tMD1Y_nGXhZvnLgfCAA', 4),\n",
       " ('mW3AmsOgXwLAMaCHwLlJeg', 1),\n",
       " ('mjJv6a560LT8VwQtujvM3w', 1),\n",
       " ('mk4ZTrfNmAczQjQbfpg_6Q', 2),\n",
       " ('msKgx9iP5og0dvOOVppRGg', 10),\n",
       " ('mxsqfFmLPdZaFAGcpz2knA', 1),\n",
       " ('n0NsugiUhcJ96IenXqpTIw', 1),\n",
       " ('nCnqLPjmzjyfe3-576o_tg', 3),\n",
       " ('nF_RHZ8A9Hef-ipZxNvk2w', 14),\n",
       " ('nGetgouYcEokefYpTb3lPA', 2),\n",
       " ('nMdK4qTofDvYjNJ_vLG4xg', 5),\n",
       " ('nTZdBTLc4_gX1dtILknIMA', 1),\n",
       " ('nTzr9ncEq8QzJNBNFT2XSQ', 3),\n",
       " ('nUjKOZpTFuJYMNiqZBVouQ', 2),\n",
       " ('neYPj0Ik2OiPrGSRLDciAg', 11),\n",
       " ('nhvB41B8o8Whk9aZFm-2oQ', 9),\n",
       " ('njvz_tw9z6pcxN25x5R53g', 2),\n",
       " ('nk-ydTMPsL9UVLaIE6MF4g', 1),\n",
       " ('ntBt0FNKwk54QU86CFa_zA', 1),\n",
       " ('nu-3pg3_iWEhhHAmeNSsdA', 1),\n",
       " ('nwMh7F7GtHuENipndSO5rw', 2),\n",
       " ('nzECDssveCTvQqKKaFJFow', 20),\n",
       " ('nzluOxQb3CzbISanXRSsuQ', 2),\n",
       " ('o6VrjhxUucgjcWc8iQuHdw', 1),\n",
       " ('oBUZgRiHQeN6pgDKy7LPWg', 10),\n",
       " ('oEg8nOdrTmNeGL4g7ZHgEg', 2),\n",
       " ('oWFKwCLhI2J2Sa8AfdSXxA', 2),\n",
       " ('ogrv4_rE8hkOmcxE6fiptA', 29),\n",
       " ('op8d9geoz8oeBseVAqiPNg', 22),\n",
       " ('otdRO1dTaIfPjBknS-tJ_w', 1),\n",
       " ('ozKGX3u1Lioz1Il8Uq3eoQ', 3),\n",
       " ('p3Qd-yUmOk9F6NWiEeK7nA', 1),\n",
       " ('p3WtCgcOXwFkdC4Squ5Yow', 9),\n",
       " ('p3g6xpo8qRb6yBrF3NOUpA', 1),\n",
       " ('pTqNFA4WH0gs6uEIbGU3qQ', 19),\n",
       " ('pUZN4Pofv0uL5G6mMgj8Gw', 1),\n",
       " ('pVZhQEOM-9XNn6VFemWyWw', 2),\n",
       " ('pek8t_9umcmmbRprHmEGoQ', 1),\n",
       " ('pkVvMbebF2bxwEHpVqVgYQ', 7),\n",
       " ('q3cxC9tv3bmPE74iLhzeYA', 27),\n",
       " ('q5tcst3eDcBJhHpYIfHNqg', 3),\n",
       " ('qPaII1MvJWT_llGa1i8uwg', 1),\n",
       " ('qUzQgrpUCn-HjnhVkj6UhA', 5),\n",
       " ('qcpg7m7V-5XgHZzdk_f_hQ', 9),\n",
       " ('qoKvDdJMfqLqd_3AsckIOw', 1),\n",
       " ('qsRZT2DaYSU7lfM617fmOQ', 1),\n",
       " ('qvtdc_TvAK_FCZaRQdlbxA', 1),\n",
       " ('r68LDXNUBvGYY7RQSVZ81w', 1),\n",
       " ('r7imbrOR6fQTWEtJCOajnA', 1),\n",
       " ('rA17RLW4IX-0oNfagMeOBw', 3),\n",
       " ('rCgzn387hf4a2Wx-iAr5pg', 2),\n",
       " ('rFXPCxUtRi_i_pZ0bO9jXQ', 2),\n",
       " ('rHUdNbOdLoJt46bOHIYFCg', 2),\n",
       " ('rgv6LCiBqRv3lxnAMNOMkA', 5),\n",
       " ('rm-1INz6tJD8538jqC0_9w', 2),\n",
       " ('s0misByHQPzT7-semxVSvQ', 1),\n",
       " ('s6wxwX9_R9si2nSvqPQMBw', 1),\n",
       " ('s9jbQyCn2p_SDc7o55GXRw', 147),\n",
       " ('sHHpnIRuJkp-5Np6PQ4e5Q', 1),\n",
       " ('sJTmnm78JOgxRBpHr2teuw', 3),\n",
       " ('sPNPi8fInPGtniCPMXMblQ', 5),\n",
       " ('seXHR-XHIqF5X3axN2drjQ', 2),\n",
       " ('svZrzlZIjOJBKdFhMEmehg', 1),\n",
       " ('svrWS2e0aOL7B1u3fOcvoQ', 2),\n",
       " ('sypHNin7YGDEat_L6-Hzig', 4),\n",
       " ('t4kU5KO1uYOtvRXdJer70Q', 7),\n",
       " ('t6eNIzThY2QCarVZdtmkGw', 25),\n",
       " ('tJpyJ4uhDwmYpVFy0k-Bjg', 25),\n",
       " ('tRnxVotxT-pT7GKaPoR7zw', 1),\n",
       " ('tSQpCqeRuOvA9E0o89wduw', 5),\n",
       " ('ta9DBjugTF7Jy_nVMd8s4g', 7),\n",
       " ('tuwNhETTs9WFatVXPcP1SQ', 25),\n",
       " ('uExhxBa76QryLd_3qkG-kg', 2),\n",
       " ('uIRRq9aqnEq6DOMVao67eA', 4),\n",
       " ('uKN_dJ0SM9Nk_KfD_HUswQ', 10),\n",
       " ('uTlm7ii9bq4_-75yVLICqg', 14),\n",
       " ('uU1Q8IK3dyQ6HGvdtlwC-w', 1),\n",
       " ('ueN0I_0zG_TG7z7NGpvnrw', 1),\n",
       " ('ug_RSE_L_8SFfNWTbxo_Vg', 13),\n",
       " ('uix2qEvtkof_YxggsW3exg', 1),\n",
       " ('us4aFqTJJ4P6kXDx43mtDA', 4),\n",
       " ('uzUFY379yGYG5Toc1ijsug', 1),\n",
       " ('v6S-VtaJMUv1Afty00kcdw', 1),\n",
       " ('vGhzeksCqgjzdNQ0Lg9BIg', 2),\n",
       " ('vJb0aClhkbahYClMiApWWw', 1),\n",
       " ('vSMD05YBjEfzGmt1dB1H-g', 1),\n",
       " ('vX9Z8NmZ3iyzCuXJYipgjA', 1),\n",
       " ('vzbNA77ZO-Cz8tYX-MyEIQ', 1),\n",
       " ('w4XTtdMVWwOZRw0raNe0pw', 4),\n",
       " ('w4qVJG-WbXJz0DInvY87EA', 1),\n",
       " ('w8CeJFu6yy051tugtExlDA', 1),\n",
       " ('w8xU5z_-yCXspCfB5bWTJw', 19),\n",
       " ('wAQJFyAB2sYeS8cEoFeXOA', 1),\n",
       " ('wFcOaoRV2KPntek9QDhSJQ', 2),\n",
       " ('wLwcr330fiyuochwIK_3SA', 1),\n",
       " ('waCAfMaGB8xM_yWwrBm_Pg', 9),\n",
       " ('wannqVaXzQn9WVhdYAyFqw', 1),\n",
       " ('wdnhyW4nIZTQprkXhk0ECg', 7),\n",
       " ('wi0JBHoHNagQtac63jksZw', 1),\n",
       " ('wxFVwvMci9R-fZwCkwp-AQ', 1),\n",
       " ('wxWL5jqCx_-It3sceLVPyw', 1),\n",
       " ('x2_33iv9KZY29qT06iyNrA', 4),\n",
       " ('xEk1g_QugUX88E09xcDUgQ', 2),\n",
       " ('xJEbA3Dwldz_twXsHNaJhA', 23),\n",
       " ('xZBNbZXta7GHcjOnMajm0w', 1),\n",
       " ('xa5fAUYVo75UTZKH0m3Abw', 24),\n",
       " ('xrmJl6GJdFx7j66Zqt052g', 3),\n",
       " ('y-C04vb1QIH68hMjdB7i_w', 1),\n",
       " ('y-C2dsakFYXpXnygsRTsRA', 8),\n",
       " ('yAGp63lksMlTi2pkllU5xA', 4),\n",
       " ('yWQPNnf9cI_N8ORWQSz0PA', 1),\n",
       " ('yWoDd6lFZJJM3FJk0o3uGg', 2),\n",
       " ('ypHSYOHBvurGgxDo8E03-g', 3),\n",
       " ('yplADEOiHhmFGyCog6McqQ', 5),\n",
       " ('yy6sSbs8lNJWp5W0ySd6nA', 1),\n",
       " ('z4m_PkHwnzyHYvA93ugHfg', 1),\n",
       " ('zAnJ7Vepune8zCQLgOs0Gg', 1),\n",
       " ('zDuEnebYMoAhI44U_Ef0Bw', 2),\n",
       " ('zEiYkOxDzMEQCAHzEB3Yyw', 1),\n",
       " ('zKPPC6mKU29KMWRp-IldDQ', 1),\n",
       " ('zTn90jWKmFW65x5U97bCVQ', 2),\n",
       " ('zhGXBDzTsQeyOypgoo3AXw', 10),\n",
       " ('zjR0Ym-jxNhVk6_MYfQ-jg', 2),\n",
       " ('zzW90wUlJROAQfAVSo0XyA', 1)]"
      ]
     },
     "execution_count": 104,
     "metadata": {},
     "output_type": "execute_result"
    }
   ],
   "source": [
    "#how often other customers appear \n",
    "import numpy as np\n",
    "\n",
    "u_users, u_count = np.unique(recs['new_user_id'], return_counts = True)\n",
    "\n",
    "list(zip(u_users, u_count))"
   ]
  },
  {
   "cell_type": "markdown",
   "metadata": {},
   "source": [
    "## Measure Relevance of Recommendations \n",
    "\n",
    "To measure relevance of our recommendations, we'll look at our input users type of business visted versus the types of businesses recommended. We can measure relevance through the cosine similarity of the business categories for our input user and the recommended businesses for our user."
   ]
  },
  {
   "cell_type": "code",
   "execution_count": 94,
   "metadata": {},
   "outputs": [],
   "source": [
    "# Calculate cosine similarity between two vectors \n",
    "import numpy as np\n",
    "def cossim(v1, v2):\n",
    "    return np.dot(v1, v2) / np.sqrt(np.dot(v1, v1)) / np.sqrt(np.dot(v2, v2))"
   ]
  },
  {
   "cell_type": "code",
   "execution_count": 96,
   "metadata": {},
   "outputs": [],
   "source": [
    "#tokenize and run our word2vec model on the input users's business categories column\n",
    "input_user_categories_token = regexTokenizer.transform(input_user_data)\n",
    "\n",
    "input_user_vectors = model.transform(input_user_categories_token)"
   ]
  },
  {
   "cell_type": "code",
   "execution_count": 97,
   "metadata": {},
   "outputs": [],
   "source": [
    "#return Pandas Dataframe\n",
    "input_user_vectors_pandas = input_user_vectors.toPandas()\n",
    "\n",
    "#sort the Dataframe by date\n",
    "input_user_vectors_pandas = input_user_vectors_pandas.sort_values(by = \"date\", ascending = False)"
   ]
  },
  {
   "cell_type": "code",
   "execution_count": 103,
   "metadata": {},
   "outputs": [
    {
     "data": {
      "text/html": [
       "<div>\n",
       "<style scoped>\n",
       "    .dataframe tbody tr th:only-of-type {\n",
       "        vertical-align: middle;\n",
       "    }\n",
       "\n",
       "    .dataframe tbody tr th {\n",
       "        vertical-align: top;\n",
       "    }\n",
       "\n",
       "    .dataframe thead th {\n",
       "        text-align: right;\n",
       "    }\n",
       "</style>\n",
       "<table border=\"1\" class=\"dataframe\">\n",
       "  <thead>\n",
       "    <tr style=\"text-align: right;\">\n",
       "      <th></th>\n",
       "      <th>user_id</th>\n",
       "      <th>business_id</th>\n",
       "      <th>date</th>\n",
       "      <th>categories</th>\n",
       "      <th>categories_token</th>\n",
       "      <th>categories_vector</th>\n",
       "    </tr>\n",
       "  </thead>\n",
       "  <tbody>\n",
       "    <tr>\n",
       "      <th>91</th>\n",
       "      <td>Lu4-NKrpJbSBpUcZPogovg</td>\n",
       "      <td>lOHzmSU3D4Pffc0lcUI3lg</td>\n",
       "      <td>2020-09-13 19:02:44</td>\n",
       "      <td>American (Traditional), Restaurants, Barbeque,...</td>\n",
       "      <td>[american, traditional, restaurants, barbeque,...</td>\n",
       "      <td>[-0.057390776276588444, -0.32251776829361917, ...</td>\n",
       "    </tr>\n",
       "    <tr>\n",
       "      <th>84</th>\n",
       "      <td>Lu4-NKrpJbSBpUcZPogovg</td>\n",
       "      <td>6Ys2XaZlp5V_TobupYSfcQ</td>\n",
       "      <td>2020-09-08 20:57:59</td>\n",
       "      <td>Obstetricians &amp; Gynecologists, Health &amp; Medica...</td>\n",
       "      <td>[obstetricians, gynecologists, health, medical...</td>\n",
       "      <td>[-0.1618240050971508, 0.338081955909729, -0.04...</td>\n",
       "    </tr>\n",
       "    <tr>\n",
       "      <th>88</th>\n",
       "      <td>Lu4-NKrpJbSBpUcZPogovg</td>\n",
       "      <td>MG57MDjNvQ1lJ1uxHEAKxg</td>\n",
       "      <td>2020-08-22 19:51:10</td>\n",
       "      <td>Day Spas, Beauty &amp; Spas, Nail Salons</td>\n",
       "      <td>[day, spas, beauty, spas, nail, salons]</td>\n",
       "      <td>[0.2256332275768121, 0.17422958835959435, 0.08...</td>\n",
       "    </tr>\n",
       "    <tr>\n",
       "      <th>40</th>\n",
       "      <td>Lu4-NKrpJbSBpUcZPogovg</td>\n",
       "      <td>ih_MxWyh3OswxzG857v6TQ</td>\n",
       "      <td>2020-08-08 21:22:47</td>\n",
       "      <td>Barbeque, Automotive, Fast Food, Restaurants, ...</td>\n",
       "      <td>[barbeque, automotive, fast, food, restaurants...</td>\n",
       "      <td>[0.12878134420939855, -0.4072647733347756, 0.2...</td>\n",
       "    </tr>\n",
       "    <tr>\n",
       "      <th>44</th>\n",
       "      <td>Lu4-NKrpJbSBpUcZPogovg</td>\n",
       "      <td>a6Mp8OCNA8IubxHUxILhwg</td>\n",
       "      <td>2020-08-08 18:41:46</td>\n",
       "      <td>Tex-Mex, Restaurants, Mexican</td>\n",
       "      <td>[tex, mex, restaurants, mexican]</td>\n",
       "      <td>[-0.12736140144988894, -0.3960172804072499, 0....</td>\n",
       "    </tr>\n",
       "  </tbody>\n",
       "</table>\n",
       "</div>"
      ],
      "text/plain": [
       "                   user_id             business_id                date  \\\n",
       "91  Lu4-NKrpJbSBpUcZPogovg  lOHzmSU3D4Pffc0lcUI3lg 2020-09-13 19:02:44   \n",
       "84  Lu4-NKrpJbSBpUcZPogovg  6Ys2XaZlp5V_TobupYSfcQ 2020-09-08 20:57:59   \n",
       "88  Lu4-NKrpJbSBpUcZPogovg  MG57MDjNvQ1lJ1uxHEAKxg 2020-08-22 19:51:10   \n",
       "40  Lu4-NKrpJbSBpUcZPogovg  ih_MxWyh3OswxzG857v6TQ 2020-08-08 21:22:47   \n",
       "44  Lu4-NKrpJbSBpUcZPogovg  a6Mp8OCNA8IubxHUxILhwg 2020-08-08 18:41:46   \n",
       "\n",
       "                                           categories  \\\n",
       "91  American (Traditional), Restaurants, Barbeque,...   \n",
       "84  Obstetricians & Gynecologists, Health & Medica...   \n",
       "88               Day Spas, Beauty & Spas, Nail Salons   \n",
       "40  Barbeque, Automotive, Fast Food, Restaurants, ...   \n",
       "44                      Tex-Mex, Restaurants, Mexican   \n",
       "\n",
       "                                     categories_token  \\\n",
       "91  [american, traditional, restaurants, barbeque,...   \n",
       "84  [obstetricians, gynecologists, health, medical...   \n",
       "88            [day, spas, beauty, spas, nail, salons]   \n",
       "40  [barbeque, automotive, fast, food, restaurants...   \n",
       "44                   [tex, mex, restaurants, mexican]   \n",
       "\n",
       "                                    categories_vector  \n",
       "91  [-0.057390776276588444, -0.32251776829361917, ...  \n",
       "84  [-0.1618240050971508, 0.338081955909729, -0.04...  \n",
       "88  [0.2256332275768121, 0.17422958835959435, 0.08...  \n",
       "40  [0.12878134420939855, -0.4072647733347756, 0.2...  \n",
       "44  [-0.12736140144988894, -0.3960172804072499, 0....  "
      ]
     },
     "execution_count": 103,
     "metadata": {},
     "output_type": "execute_result"
    }
   ],
   "source": [
    "input_user_vectors_pandas.head()"
   ]
  },
  {
   "cell_type": "code",
   "execution_count": 101,
   "metadata": {},
   "outputs": [
    {
     "data": {
      "text/html": [
       "<div>\n",
       "<style scoped>\n",
       "    .dataframe tbody tr th:only-of-type {\n",
       "        vertical-align: middle;\n",
       "    }\n",
       "\n",
       "    .dataframe tbody tr th {\n",
       "        vertical-align: top;\n",
       "    }\n",
       "\n",
       "    .dataframe thead th {\n",
       "        text-align: right;\n",
       "    }\n",
       "</style>\n",
       "<table border=\"1\" class=\"dataframe\">\n",
       "  <thead>\n",
       "    <tr style=\"text-align: right;\">\n",
       "      <th></th>\n",
       "      <th>business_id</th>\n",
       "      <th>business_name</th>\n",
       "      <th>categories</th>\n",
       "      <th>latitude</th>\n",
       "      <th>longitude</th>\n",
       "      <th>new_user_id</th>\n",
       "      <th>input_user_rating</th>\n",
       "      <th>new_user_rating</th>\n",
       "      <th>new_user_new_business_rating</th>\n",
       "      <th>abs_of_col</th>\n",
       "      <th>categories_vector</th>\n",
       "      <th>distance_from</th>\n",
       "    </tr>\n",
       "  </thead>\n",
       "  <tbody>\n",
       "    <tr>\n",
       "      <th>1051</th>\n",
       "      <td>-AMbae1vfc9DidQrI9q27w</td>\n",
       "      <td>Stars In Your Eyes Optometry</td>\n",
       "      <td>Eyewear &amp; Opticians, Laser Eye Surgery/Lasik, ...</td>\n",
       "      <td>30.269877</td>\n",
       "      <td>-97.742975</td>\n",
       "      <td>m2M9qvF1joFKisTeb7NRQw</td>\n",
       "      <td>3.0</td>\n",
       "      <td>3.0</td>\n",
       "      <td>5.0</td>\n",
       "      <td>0.0</td>\n",
       "      <td>[-0.09221282415091991, 0.10586612783372402, 0....</td>\n",
       "      <td>0.047027</td>\n",
       "    </tr>\n",
       "    <tr>\n",
       "      <th>2751</th>\n",
       "      <td>ZJFIDLUiZ2Vs0NTj0pGVfg</td>\n",
       "      <td>Perry's Steakhouse &amp; Grille - Downtown Austin</td>\n",
       "      <td>Seafood, Steakhouses, Restaurants, American (N...</td>\n",
       "      <td>30.269620</td>\n",
       "      <td>-97.743410</td>\n",
       "      <td>-e8XaCNfSHYzIy7YFATXFA</td>\n",
       "      <td>5.0</td>\n",
       "      <td>5.0</td>\n",
       "      <td>5.0</td>\n",
       "      <td>0.0</td>\n",
       "      <td>[0.141895323193499, -0.16145237694893563, 0.05...</td>\n",
       "      <td>0.071507</td>\n",
       "    </tr>\n",
       "    <tr>\n",
       "      <th>1178</th>\n",
       "      <td>E8aCB-WjiXlTgUJYo3OMHQ</td>\n",
       "      <td>Cuba 512</td>\n",
       "      <td>Cuban, Caribbean, Restaurants</td>\n",
       "      <td>30.271252</td>\n",
       "      <td>-97.741946</td>\n",
       "      <td>eRPsGOd1VE7lF6pRCMVWuw</td>\n",
       "      <td>1.0</td>\n",
       "      <td>1.0</td>\n",
       "      <td>5.0</td>\n",
       "      <td>0.0</td>\n",
       "      <td>[-0.02844127764304479, -0.05267608786622683, 0...</td>\n",
       "      <td>0.074263</td>\n",
       "    </tr>\n",
       "    <tr>\n",
       "      <th>995</th>\n",
       "      <td>0lgGW93HYeVqrTTx9d3gUA</td>\n",
       "      <td>Chi'Lantro</td>\n",
       "      <td>Barbeque, Street Vendors, Food, Food Stands, K...</td>\n",
       "      <td>30.270635</td>\n",
       "      <td>-97.741542</td>\n",
       "      <td>NHuLFl_eDxtXV1RLVOV-Tg</td>\n",
       "      <td>4.0</td>\n",
       "      <td>4.0</td>\n",
       "      <td>4.0</td>\n",
       "      <td>0.0</td>\n",
       "      <td>[-0.23380851248900095, -0.5317708517735202, 0....</td>\n",
       "      <td>0.080864</td>\n",
       "    </tr>\n",
       "    <tr>\n",
       "      <th>462</th>\n",
       "      <td>fTqdzwU5A7A5fODHGnBqlQ</td>\n",
       "      <td>Total Men's Primary Care - Downtown</td>\n",
       "      <td>Beauty &amp; Spas, Health &amp; Medical, Medical Cente...</td>\n",
       "      <td>30.270362</td>\n",
       "      <td>-97.741458</td>\n",
       "      <td>dADe6pGW1OaYBWQWeIHbxg</td>\n",
       "      <td>5.0</td>\n",
       "      <td>5.0</td>\n",
       "      <td>5.0</td>\n",
       "      <td>0.0</td>\n",
       "      <td>[-0.0032554444144753847, 0.3259258436806062, 0...</td>\n",
       "      <td>0.086711</td>\n",
       "    </tr>\n",
       "  </tbody>\n",
       "</table>\n",
       "</div>"
      ],
      "text/plain": [
       "                 business_id                                  business_name  \\\n",
       "1051  -AMbae1vfc9DidQrI9q27w                   Stars In Your Eyes Optometry   \n",
       "2751  ZJFIDLUiZ2Vs0NTj0pGVfg  Perry's Steakhouse & Grille - Downtown Austin   \n",
       "1178  E8aCB-WjiXlTgUJYo3OMHQ                                       Cuba 512   \n",
       "995   0lgGW93HYeVqrTTx9d3gUA                                     Chi'Lantro   \n",
       "462   fTqdzwU5A7A5fODHGnBqlQ            Total Men's Primary Care - Downtown   \n",
       "\n",
       "                                             categories   latitude  longitude  \\\n",
       "1051  Eyewear & Opticians, Laser Eye Surgery/Lasik, ...  30.269877 -97.742975   \n",
       "2751  Seafood, Steakhouses, Restaurants, American (N...  30.269620 -97.743410   \n",
       "1178                      Cuban, Caribbean, Restaurants  30.271252 -97.741946   \n",
       "995   Barbeque, Street Vendors, Food, Food Stands, K...  30.270635 -97.741542   \n",
       "462   Beauty & Spas, Health & Medical, Medical Cente...  30.270362 -97.741458   \n",
       "\n",
       "                 new_user_id input_user_rating new_user_rating  \\\n",
       "1051  m2M9qvF1joFKisTeb7NRQw               3.0             3.0   \n",
       "2751  -e8XaCNfSHYzIy7YFATXFA               5.0             5.0   \n",
       "1178  eRPsGOd1VE7lF6pRCMVWuw               1.0             1.0   \n",
       "995   NHuLFl_eDxtXV1RLVOV-Tg               4.0             4.0   \n",
       "462   dADe6pGW1OaYBWQWeIHbxg               5.0             5.0   \n",
       "\n",
       "     new_user_new_business_rating  abs_of_col  \\\n",
       "1051                          5.0         0.0   \n",
       "2751                          5.0         0.0   \n",
       "1178                          5.0         0.0   \n",
       "995                           4.0         0.0   \n",
       "462                           5.0         0.0   \n",
       "\n",
       "                                      categories_vector  distance_from  \n",
       "1051  [-0.09221282415091991, 0.10586612783372402, 0....       0.047027  \n",
       "2751  [0.141895323193499, -0.16145237694893563, 0.05...       0.071507  \n",
       "1178  [-0.02844127764304479, -0.05267608786622683, 0...       0.074263  \n",
       "995   [-0.23380851248900095, -0.5317708517735202, 0....       0.080864  \n",
       "462   [-0.0032554444144753847, 0.3259258436806062, 0...       0.086711  "
      ]
     },
     "execution_count": 101,
     "metadata": {},
     "output_type": "execute_result"
    }
   ],
   "source": [
    "recs.head()"
   ]
  },
  {
   "cell_type": "markdown",
   "metadata": {},
   "source": [
    "Let's check that our word embeddings on the categories column is working well by finding the cosine similarity between a couple of sample vectors."
   ]
  },
  {
   "cell_type": "code",
   "execution_count": 111,
   "metadata": {},
   "outputs": [
    {
     "data": {
      "text/plain": [
       "'Obstetricians & Gynecologists, Health & Medical, Doctors'"
      ]
     },
     "execution_count": 111,
     "metadata": {},
     "output_type": "execute_result"
    }
   ],
   "source": [
    "input_user_vectors_pandas['categories'][84]"
   ]
  },
  {
   "cell_type": "code",
   "execution_count": 117,
   "metadata": {},
   "outputs": [
    {
     "data": {
      "text/plain": [
       "'Beauty & Spas, Health & Medical, Medical Centers, Doctors, Family Practice, Weight Loss Centers, Laser Hair Removal, Hair Removal'"
      ]
     },
     "execution_count": 117,
     "metadata": {},
     "output_type": "execute_result"
    }
   ],
   "source": [
    "recs['categories'][462]"
   ]
  },
  {
   "cell_type": "code",
   "execution_count": 116,
   "metadata": {},
   "outputs": [
    {
     "data": {
      "text/plain": [
       "0.8179628485252962"
      ]
     },
     "execution_count": 116,
     "metadata": {},
     "output_type": "execute_result"
    }
   ],
   "source": [
    "cossim(input_user_vectors_pandas['categories_vector'][84], recs['categories_vector'][462])"
   ]
  },
  {
   "cell_type": "code",
   "execution_count": 119,
   "metadata": {},
   "outputs": [
    {
     "data": {
      "text/plain": [
       "'American (Traditional), Restaurants, Barbeque, Steakhouses'"
      ]
     },
     "execution_count": 119,
     "metadata": {},
     "output_type": "execute_result"
    }
   ],
   "source": [
    "input_user_vectors_pandas['categories'][91]"
   ]
  },
  {
   "cell_type": "code",
   "execution_count": 120,
   "metadata": {},
   "outputs": [
    {
     "data": {
      "text/plain": [
       "-0.06000090634718217"
      ]
     },
     "execution_count": 120,
     "metadata": {},
     "output_type": "execute_result"
    }
   ],
   "source": [
    "cossim(input_user_vectors_pandas['categories_vector'][91], recs['categories_vector'][462])"
   ]
  },
  {
   "cell_type": "markdown",
   "metadata": {},
   "source": [
    "We see a high cosine similiarty between two health realted businesses and a low cosine similarity between the health related service and the BBQ restaurant. Looks like our word2vec model has done a nice job of finding the relationshiop between the businesses categoires.\n",
    "\n",
    "To get a feel for the relevance of all of the recommendations, we'll try to putting all of the categories for our input user's rated businesses and recommended businesses into two large vectors and compare similarity."
   ]
  },
  {
   "cell_type": "code",
   "execution_count": 125,
   "metadata": {},
   "outputs": [],
   "source": [
    "#create large vector for input user and recommendations on categories\n",
    "v1 = input_user_vectors_pandas.categories.str.cat(sep=' ')\n",
    "v2 = recs.categories.str.cat(sep=' ')"
   ]
  },
  {
   "cell_type": "code",
   "execution_count": 127,
   "metadata": {},
   "outputs": [],
   "source": [
    "#return to Pyspark dataframe to use on word2vec\n",
    "v1_df = spark.createDataFrame([v1], \"string\").toDF(\"categories\")\n",
    "v2_df = spark.createDataFrame([v2], \"string\").toDF(\"categories\")"
   ]
  },
  {
   "cell_type": "code",
   "execution_count": 128,
   "metadata": {},
   "outputs": [],
   "source": [
    "#get vector representation of each\n",
    "v1_word2vec = model.transform(regexTokenizer.transform(v1_df))\n",
    "v2_word2vec = model.transform(regexTokenizer.transform(v2_df))\n",
    "v1_word2vec = v1_word2vec.toPandas()\n",
    "v2_word2vec = v2_word2vec.toPandas()"
   ]
  },
  {
   "cell_type": "code",
   "execution_count": 129,
   "metadata": {},
   "outputs": [
    {
     "data": {
      "text/plain": [
       "0.8978640496752872"
      ]
     },
     "execution_count": 129,
     "metadata": {},
     "output_type": "execute_result"
    }
   ],
   "source": [
    "#compare with cosine similiarty\n",
    "cossim(v1_word2vec['categories_vector'][0], v2_word2vec['categories_vector'][0])"
   ]
  },
  {
   "cell_type": "markdown",
   "metadata": {},
   "source": [
    "Overall, it appears the recommended businesses align with the input user's history in terms of similarity.\n",
    "\n",
    "What if we know the type of business a user needs a recommendation for? We can now also sort our recommendations by similiarty to a type of business.  \n",
    "\n",
    "As an example, let's find the most similar businesses to a users most recent review from their list of recommended businesses."
   ]
  },
  {
   "cell_type": "code",
   "execution_count": 135,
   "metadata": {},
   "outputs": [
    {
     "name": "stdout",
     "output_type": "stream",
     "text": [
      "The categories of the input users most recent review: Thai, Restaurants, Food, Food Trucks\n"
     ]
    }
   ],
   "source": [
    "print(\"The categories of the input users most recent review: {}\".format(input_user_vectors_pandas['categories'][0]))"
   ]
  },
  {
   "cell_type": "code",
   "execution_count": 130,
   "metadata": {},
   "outputs": [],
   "source": [
    "track_sim = []\n",
    "v2 = input_user_vectors_pandas['categories_vector'][0]\n",
    "for vector in recs['categories_vector']:\n",
    "    track_sim.append(cossim(v1 = vector, v2 = v2))"
   ]
  },
  {
   "cell_type": "code",
   "execution_count": 131,
   "metadata": {},
   "outputs": [],
   "source": [
    "recs['similarity'] = track_sim"
   ]
  },
  {
   "cell_type": "code",
   "execution_count": 133,
   "metadata": {
    "scrolled": false
   },
   "outputs": [
    {
     "data": {
      "text/html": [
       "<div>\n",
       "<style scoped>\n",
       "    .dataframe tbody tr th:only-of-type {\n",
       "        vertical-align: middle;\n",
       "    }\n",
       "\n",
       "    .dataframe tbody tr th {\n",
       "        vertical-align: top;\n",
       "    }\n",
       "\n",
       "    .dataframe thead th {\n",
       "        text-align: right;\n",
       "    }\n",
       "</style>\n",
       "<table border=\"1\" class=\"dataframe\">\n",
       "  <thead>\n",
       "    <tr style=\"text-align: right;\">\n",
       "      <th></th>\n",
       "      <th>business_id</th>\n",
       "      <th>business_name</th>\n",
       "      <th>categories</th>\n",
       "      <th>latitude</th>\n",
       "      <th>longitude</th>\n",
       "      <th>new_user_id</th>\n",
       "      <th>input_user_rating</th>\n",
       "      <th>new_user_rating</th>\n",
       "      <th>new_user_new_business_rating</th>\n",
       "      <th>abs_of_col</th>\n",
       "      <th>categories_vector</th>\n",
       "      <th>distance_from</th>\n",
       "      <th>similarity</th>\n",
       "    </tr>\n",
       "  </thead>\n",
       "  <tbody>\n",
       "    <tr>\n",
       "      <th>1246</th>\n",
       "      <td>XZb-K_pP8Roz8WIG2hPFEg</td>\n",
       "      <td>Tuk Tuk Thai Cafe</td>\n",
       "      <td>Thai, Restaurants, Food</td>\n",
       "      <td>30.215908</td>\n",
       "      <td>-97.796670</td>\n",
       "      <td>SneLjEnBq-sZNQrXc0ExlQ</td>\n",
       "      <td>5.0</td>\n",
       "      <td>5.0</td>\n",
       "      <td>5.0</td>\n",
       "      <td>0.0</td>\n",
       "      <td>[-0.45205954710642493, -0.4202902875840664, 0....</td>\n",
       "      <td>4.952276</td>\n",
       "      <td>0.937396</td>\n",
       "    </tr>\n",
       "    <tr>\n",
       "      <th>2960</th>\n",
       "      <td>vuOfLg269Rr4-moMAidLqg</td>\n",
       "      <td>Veracruz All Natural</td>\n",
       "      <td>Food, Restaurants, Food Trucks, Mexican</td>\n",
       "      <td>30.231436</td>\n",
       "      <td>-97.788077</td>\n",
       "      <td>s9jbQyCn2p_SDc7o55GXRw</td>\n",
       "      <td>4.0</td>\n",
       "      <td>4.0</td>\n",
       "      <td>5.0</td>\n",
       "      <td>0.0</td>\n",
       "      <td>[-0.24607874490320683, -0.42526403442025185, 0...</td>\n",
       "      <td>3.815392</td>\n",
       "      <td>0.842530</td>\n",
       "    </tr>\n",
       "    <tr>\n",
       "      <th>2582</th>\n",
       "      <td>tHv6_4DKOV8sZnlvTrCN9Q</td>\n",
       "      <td>Al Pastor</td>\n",
       "      <td>Food Trucks, Restaurants, Mexican, Food</td>\n",
       "      <td>30.242096</td>\n",
       "      <td>-97.729973</td>\n",
       "      <td>Zf66IDXGUlRdKS4fwzARIw</td>\n",
       "      <td>4.0</td>\n",
       "      <td>4.0</td>\n",
       "      <td>5.0</td>\n",
       "      <td>0.0</td>\n",
       "      <td>[-0.24607874490320683, -0.42526403442025185, 0...</td>\n",
       "      <td>2.110721</td>\n",
       "      <td>0.842530</td>\n",
       "    </tr>\n",
       "    <tr>\n",
       "      <th>353</th>\n",
       "      <td>btqvmsmX5Phgr1A0jH6j0w</td>\n",
       "      <td>LUV Thai Cuisine</td>\n",
       "      <td>Restaurants, Thai</td>\n",
       "      <td>30.230298</td>\n",
       "      <td>-97.815657</td>\n",
       "      <td>eRPsGOd1VE7lF6pRCMVWuw</td>\n",
       "      <td>5.0</td>\n",
       "      <td>5.0</td>\n",
       "      <td>5.0</td>\n",
       "      <td>0.0</td>\n",
       "      <td>[-0.4505927413702011, -0.411759490147233, 0.14...</td>\n",
       "      <td>5.153585</td>\n",
       "      <td>0.842305</td>\n",
       "    </tr>\n",
       "    <tr>\n",
       "      <th>362</th>\n",
       "      <td>xFgIiLmJVCKqKX8Ra_ZNQQ</td>\n",
       "      <td>Chi'Lantro</td>\n",
       "      <td>Korean, Restaurants, Food, Asian Fusion, Barbe...</td>\n",
       "      <td>30.394372</td>\n",
       "      <td>-97.720157</td>\n",
       "      <td>jA8QxEykYOAwJCLJWsV24A</td>\n",
       "      <td>5.0</td>\n",
       "      <td>5.0</td>\n",
       "      <td>5.0</td>\n",
       "      <td>0.0</td>\n",
       "      <td>[-0.3906800467520952, -0.5517844804562628, 0.2...</td>\n",
       "      <td>8.655685</td>\n",
       "      <td>0.810751</td>\n",
       "    </tr>\n",
       "  </tbody>\n",
       "</table>\n",
       "</div>"
      ],
      "text/plain": [
       "                 business_id         business_name  \\\n",
       "1246  XZb-K_pP8Roz8WIG2hPFEg     Tuk Tuk Thai Cafe   \n",
       "2960  vuOfLg269Rr4-moMAidLqg  Veracruz All Natural   \n",
       "2582  tHv6_4DKOV8sZnlvTrCN9Q             Al Pastor   \n",
       "353   btqvmsmX5Phgr1A0jH6j0w      LUV Thai Cuisine   \n",
       "362   xFgIiLmJVCKqKX8Ra_ZNQQ            Chi'Lantro   \n",
       "\n",
       "                                             categories   latitude  longitude  \\\n",
       "1246                            Thai, Restaurants, Food  30.215908 -97.796670   \n",
       "2960            Food, Restaurants, Food Trucks, Mexican  30.231436 -97.788077   \n",
       "2582            Food Trucks, Restaurants, Mexican, Food  30.242096 -97.729973   \n",
       "353                                   Restaurants, Thai  30.230298 -97.815657   \n",
       "362   Korean, Restaurants, Food, Asian Fusion, Barbe...  30.394372 -97.720157   \n",
       "\n",
       "                 new_user_id input_user_rating new_user_rating  \\\n",
       "1246  SneLjEnBq-sZNQrXc0ExlQ               5.0             5.0   \n",
       "2960  s9jbQyCn2p_SDc7o55GXRw               4.0             4.0   \n",
       "2582  Zf66IDXGUlRdKS4fwzARIw               4.0             4.0   \n",
       "353   eRPsGOd1VE7lF6pRCMVWuw               5.0             5.0   \n",
       "362   jA8QxEykYOAwJCLJWsV24A               5.0             5.0   \n",
       "\n",
       "     new_user_new_business_rating  abs_of_col  \\\n",
       "1246                          5.0         0.0   \n",
       "2960                          5.0         0.0   \n",
       "2582                          5.0         0.0   \n",
       "353                           5.0         0.0   \n",
       "362                           5.0         0.0   \n",
       "\n",
       "                                      categories_vector  distance_from  \\\n",
       "1246  [-0.45205954710642493, -0.4202902875840664, 0....       4.952276   \n",
       "2960  [-0.24607874490320683, -0.42526403442025185, 0...       3.815392   \n",
       "2582  [-0.24607874490320683, -0.42526403442025185, 0...       2.110721   \n",
       "353   [-0.4505927413702011, -0.411759490147233, 0.14...       5.153585   \n",
       "362   [-0.3906800467520952, -0.5517844804562628, 0.2...       8.655685   \n",
       "\n",
       "      similarity  \n",
       "1246    0.937396  \n",
       "2960    0.842530  \n",
       "2582    0.842530  \n",
       "353     0.842305  \n",
       "362     0.810751  "
      ]
     },
     "execution_count": 133,
     "metadata": {},
     "output_type": "execute_result"
    }
   ],
   "source": [
    "recs.sort_values(by = \"similarity\", ascending = False).head()"
   ]
  },
  {
   "cell_type": "markdown",
   "metadata": {},
   "source": [
    "The top 5 recommended businesses are now all Thai food or food truck related businesses.\n",
    "\n",
    "This exercise can be easily repeated with a users past n reviews to find new businesses to recommend that are highly relevant to our user's review history."
   ]
  },
  {
   "cell_type": "code",
   "execution_count": null,
   "metadata": {},
   "outputs": [],
   "source": []
  }
 ],
 "metadata": {
  "kernelspec": {
   "display_name": "pySpark",
   "language": "python",
   "name": "pyspark"
  },
  "language_info": {
   "codemirror_mode": {
    "name": "ipython",
    "version": 3
   },
   "file_extension": ".py",
   "mimetype": "text/x-python",
   "name": "python",
   "nbconvert_exporter": "python",
   "pygments_lexer": "ipython3",
   "version": "3.6.8"
  }
 },
 "nbformat": 4,
 "nbformat_minor": 5
}
